{
  "nbformat": 4,
  "nbformat_minor": 0,
  "metadata": {
    "colab": {
      "name": "hw7.ipynb",
      "version": "0.3.2",
      "views": {},
      "default_view": {},
      "provenance": [
        {
          "file_id": "1FlYpA-JHCZ1UilPScC2zWhZNCkE3Sv78",
          "timestamp": 1524942824964
        }
      ],
      "collapsed_sections": []
    },
    "kernelspec": {
      "display_name": "Python [default]",
      "language": "python",
      "name": "python3"
    },
    "accelerator": "GPU"
  },
  "cells": [
    {
      "metadata": {
        "id": "rYP6lkVmvaDJ",
        "colab_type": "text"
      },
      "cell_type": "markdown",
      "source": [
        "<span style=\"font-size: 14pt\">MIPT, Advanced ML, Spring 2018</span>\n",
        "\n",
        "<span style=\"font-size: 16pt\"> HW #7: CNN models\n",
        "\n",
        "<span style=\"color:blue; font-size: 12pt\">Sergey Kolesnikov</span>,\n",
        "<span style=\"color:blue; font-size: 12pt; font-family: 'Verdana'\"> scitator@gmail.com</span>\n"
      ]
    },
    {
      "metadata": {
        "id": "Z2H5tYinvaDL",
        "colab_type": "text"
      },
      "cell_type": "markdown",
      "source": [
        "<h1 align=\"center\">Organization Info</h1> \n",
        "\n",
        "* Дедлайн **24 апреля 2018 02:59** для всех групп.\n",
        "* В качестве решения задания нужно прислать ноутбук с подробными комментариями (<span style='color:red'> без присланного решения результат контеста не будет засчитан </span>).\n",
        "* <span style='color:red'>Название команды в контесте должно соответствовать шаблону: НомерГруппы_Имя_Фамилия, например, 594_Ivan_Ivanov</span>."
      ]
    },
    {
      "metadata": {
        "id": "LGl1RKn1vaDM",
        "colab_type": "text"
      },
      "cell_type": "markdown",
      "source": [
        "**Оформление дз**: \n",
        "- Присылайте выполненное задание на почту ``ml.course.mipt@gmail.com``\n",
        "- Укажите тему письма в следующем формате ``ML2018_fall_<номер_группы>_<фамилия>``, к примеру -- ``ML2018_fall_495_ivanov``\n",
        "- Выполненное дз сохраните в файл ``<фамилия>_<группа>_task<номер>.ipnb, к примеру`` -- ``ivanov_401_task5.ipnb``\n",
        "\n",
        "**Вопросы**:\n",
        "- Присылайте вопросы на почту ``ml.course.mipt@gmail.com``\n",
        "- Укажите тему письма в следующем формате ``ML2018_fall Question <Содержание вопроса>``\n",
        "\n",
        "\n",
        "--------\n",
        "- **PS1:** Используются автоматические фильтры, и просто не найдем ваше дз, если вы неаккуратно его подпишите.\n",
        "- **PS2:**  Просроченный дедлайн снижает максимальный вес задания по формуле, указнной на первом семинаре\n",
        "- **PS3:** Допустимы исправление кода предложенного кода ниже, если вы считаете"
      ]
    },
    {
      "metadata": {
        "id": "t8VSS60QvaDN",
        "colab_type": "text"
      },
      "cell_type": "markdown",
      "source": [
        "---"
      ]
    },
    {
      "metadata": {
        "id": "_P-bJiRfvaDN",
        "colab_type": "text"
      },
      "cell_type": "markdown",
      "source": [
        "<h1 align=\"center\">Check Questions </h1> \n",
        "\n",
        "Ниже приводится список вопросов, с ответами на которые может быть полезно разобраться для понимания темы.\n",
        "\n",
        "**Вопрос 1**: Чем отличаются современные сверточные сети от сетей 5 летней давности?\n",
        "\n",
        "Современные сверточные сети содержат около 200 слоев, а 5 лет назад их количество не превышало 20.\n",
        "\n",
        "**Вопрос 2**: Какие неприятности могут возникнуть во время обучения современных нейросетей?\n",
        "\n",
        "Для получения хороших результатов, современные сети обучают на огромных датасетах, например ImageNet (распознование изображений). Из-за огромного размера, данные не помещаются в оперативную память (или графическую память), поэтому нужно иметь оборудование удовлетворяющее этим требваниям.\n",
        "\n",
        "\n",
        "**Вопрос 3**: У вас есть очень маленький датасет из 100 картинок, классификация, но вы очень хотите использовать нейросеть, какие неприятности вас ждут и как их решить? что делать если первый вариант  решения не заработает?\n",
        "\n",
        "Обычно в нейросети очень много параметров, которые нужно найти. И 100 картинок не смогут настроить эти параметры. Для решения проблемы нехватки данных можно применить аугментацию. Суть этого метода заключается в увеличении данных за счет изменения исходных данных, например поворот, инверсия, отражение картинки. А если этот способ не помог, то можно попробовать самому разметить данные или\n",
        " найти уже размеченную базу данных.\n",
        " \n",
        "**Вопрос 4**: Можно ли сделать стайл трансфер для музыки и как?\n",
        "\n",
        "Можно, с помощью сверточных нейронных сетей."
      ]
    },
    {
      "metadata": {
        "id": "beNSQtg7vaDO",
        "colab_type": "text"
      },
      "cell_type": "markdown",
      "source": [
        "---"
      ]
    },
    {
      "metadata": {
        "id": "Ri0aw4hRvaDP",
        "colab_type": "text"
      },
      "cell_type": "markdown",
      "source": [
        "<h1 align=\"center\">Theory Questions</h1> "
      ]
    },
    {
      "metadata": {
        "id": "AkmugPUivaDP",
        "colab_type": "text"
      },
      "cell_type": "markdown",
      "source": [
        "---"
      ]
    },
    {
      "metadata": {
        "id": "2Cp7OF6zvaDQ",
        "colab_type": "text"
      },
      "cell_type": "markdown",
      "source": [
        "### Useful notebooks\n",
        "#### Colab link (seminar): https://colab.research.google.com/drive/18xjvLspViCwTUXTBNiz_xKxlUblQuGPU\n",
        "#### Colab link (hw): https://colab.research.google.com/drive/1FlYpA-JHCZ1UilPScC2zWhZNCkE3Sv78"
      ]
    },
    {
      "metadata": {
        "id": "cnbPkQk0vaDR",
        "colab_type": "text"
      },
      "cell_type": "markdown",
      "source": [
        "---"
      ]
    },
    {
      "metadata": {
        "id": "ey4AVK21vaDS",
        "colab_type": "text"
      },
      "cell_type": "markdown",
      "source": [
        "# CIFAR Quest\n",
        "\n",
        "(please read it at least diagonally)\n",
        "\n",
        "* The ultimate quest is to create a network that has as high __accuracy__ as you can push it.\n",
        "* There is a __mini-report__ at the end that you will have to fill in. We recommend reading it first and filling it while you iterate.\n",
        " \n",
        "## Grading\n",
        "* starting at zero points\n",
        "* +2 for describing your iteration path in a report below.\n",
        "* +2 for correct check questions\n",
        "* +1 for beating each of these milestones on __TEST__ dataset:\n",
        "    * 60% (5 total)\n",
        "    * 65% (6 total)\n",
        "    * 70% (7 total)\n",
        "    * 75% (8 total)\n",
        "    * 80% (9 total)\n",
        "    * 82% (10 total)\n",
        "* +2 for really cool solution:\n",
        "    * 84% (12 total)\n",
        "    * 86% (14 total)\n",
        "    * 88% (16 total)\n",
        "    * 90% (18 total)\n",
        "    * 92% (20 total)\n",
        "    \n",
        "## Bonus points\n",
        "\n",
        "Common ways to get bonus points are:\n",
        "* Get higher score, obviously.\n",
        "* Anything special about your NN. For example \"A super-small/fast NN that gets 80%\" gets a bonus.\n",
        "* Any detailed analysis of the results. (saliency maps, whatever)\n",
        "\n",
        "## Restrictions\n",
        "* Please do __NOT__ use pre-trained networks for this assignment.\n",
        " * In other words, milestones must be beaten without pre-trained nets (and such net must be present in the e-mail).\n",
        "* you __can__ use validation data for training, but you __can't'__ do anything with test data apart from running the evaluation procedure."
      ]
    },
    {
      "metadata": {
        "id": "-nLcJcYNvaDS",
        "colab_type": "text"
      },
      "cell_type": "markdown",
      "source": [
        "---"
      ]
    },
    {
      "metadata": {
        "id": "NWw2dDvZvaDT",
        "colab_type": "code",
        "colab": {
          "autoexec": {
            "startup": false,
            "wait_interval": 0
          },
          "base_uri": "https://localhost:8080/",
          "height": 221
        },
        "outputId": "1e6ac5e3-098d-4774-b588-1f7cfb33ccff",
        "executionInfo": {
          "status": "ok",
          "timestamp": 1525590489894,
          "user_tz": -180,
          "elapsed": 15433,
          "user": {
            "displayName": "Михаил Сергеевич Егоров",
            "photoUrl": "https://lh3.googleusercontent.com/a/default-user=s128",
            "userId": "110484987820042064694"
          }
        }
      },
      "cell_type": "code",
      "source": [
        "# Load data. It may work slow.\n",
        "!mkdir cifar10\n",
        "!curl -o cifar-10-python.tar.gz https://www.cs.toronto.edu/~kriz/cifar-10-python.tar.gz\n",
        "!tar -xvzf cifar-10-python.tar.gz -C cifar10"
      ],
      "execution_count": 1,
      "outputs": [
        {
          "output_type": "stream",
          "text": [
            "  % Total    % Received % Xferd  Average Speed   Time    Time     Time  Current\r\n",
            "                                 Dload  Upload   Total   Spent    Left  Speed\n",
            "100  162M  100  162M    0     0  20.3M      0  0:00:08  0:00:08 --:--:-- 17.9M\n",
            "cifar-10-batches-py/\n",
            "cifar-10-batches-py/data_batch_4\n",
            "cifar-10-batches-py/readme.html\n",
            "cifar-10-batches-py/test_batch\n",
            "cifar-10-batches-py/data_batch_3\n",
            "cifar-10-batches-py/batches.meta\n",
            "cifar-10-batches-py/data_batch_2\n",
            "cifar-10-batches-py/data_batch_5\n",
            "cifar-10-batches-py/data_batch_1\n"
          ],
          "name": "stdout"
        }
      ]
    },
    {
      "metadata": {
        "id": "WdTtnwZovaDX",
        "colab_type": "code",
        "colab": {
          "autoexec": {
            "startup": false,
            "wait_interval": 0
          }
        },
        "cellView": "code"
      },
      "cell_type": "code",
      "source": [
        "#@title Default title text\n",
        "import _pickle as pickle\n",
        "import os\n",
        "import time\n",
        "import numpy as np\n",
        "import tensorflow as tf\n",
        "from IPython import display\n",
        "import matplotlib.pyplot as plt\n",
        "import seaborn\n",
        "%matplotlib inline"
      ],
      "execution_count": 0,
      "outputs": []
    },
    {
      "metadata": {
        "id": "MK2_zPkvGp2R",
        "colab_type": "code",
        "colab": {
          "autoexec": {
            "startup": false,
            "wait_interval": 0
          }
        }
      },
      "cell_type": "code",
      "source": [
        "tf.logging.set_verbosity(tf.logging.ERROR)"
      ],
      "execution_count": 0,
      "outputs": []
    },
    {
      "metadata": {
        "id": "Tus1SiIowvet",
        "colab_type": "code",
        "colab": {
          "autoexec": {
            "startup": false,
            "wait_interval": 0
          },
          "base_uri": "https://localhost:8080/",
          "height": 34
        },
        "outputId": "63e50b41-cfdb-4327-bd62-f0de4fb9554f",
        "executionInfo": {
          "status": "ok",
          "timestamp": 1525590503142,
          "user_tz": -180,
          "elapsed": 1409,
          "user": {
            "displayName": "Михаил Сергеевич Егоров",
            "photoUrl": "https://lh3.googleusercontent.com/a/default-user=s128",
            "userId": "110484987820042064694"
          }
        }
      },
      "cell_type": "code",
      "source": [
        "tf.__version__"
      ],
      "execution_count": 4,
      "outputs": [
        {
          "output_type": "execute_result",
          "data": {
            "text/plain": [
              "'1.7.0'"
            ]
          },
          "metadata": {
            "tags": []
          },
          "execution_count": 4
        }
      ]
    },
    {
      "metadata": {
        "id": "v7V8Utbzwvrh",
        "colab_type": "code",
        "colab": {
          "autoexec": {
            "startup": false,
            "wait_interval": 0
          },
          "base_uri": "https://localhost:8080/",
          "height": 34
        },
        "outputId": "314721a6-9b68-4923-9798-42d676fb7822",
        "executionInfo": {
          "status": "ok",
          "timestamp": 1525590506027,
          "user_tz": -180,
          "elapsed": 1288,
          "user": {
            "displayName": "Михаил Сергеевич Егоров",
            "photoUrl": "https://lh3.googleusercontent.com/a/default-user=s128",
            "userId": "110484987820042064694"
          }
        }
      },
      "cell_type": "code",
      "source": [
        "tf.test.is_gpu_available()"
      ],
      "execution_count": 5,
      "outputs": [
        {
          "output_type": "execute_result",
          "data": {
            "text/plain": [
              "True"
            ]
          },
          "metadata": {
            "tags": []
          },
          "execution_count": 5
        }
      ]
    },
    {
      "metadata": {
        "id": "hyThnDe_vaDZ",
        "colab_type": "code",
        "colab": {
          "autoexec": {
            "startup": false,
            "wait_interval": 0
          }
        }
      },
      "cell_type": "code",
      "source": [
        "import math\n",
        "\n",
        "def load_CIFAR_batch(filename):\n",
        "    \"\"\" load single batch of cifar \"\"\"\n",
        "    with open(filename, 'rb') as f:\n",
        "        datadict = pickle.load(f, encoding='iso-8859-1')\n",
        "        X = datadict['data']\n",
        "        Y = datadict['labels']\n",
        "        X = X.reshape(10000, 3, 32, 32).astype(\"float\")\n",
        "        Y = np.array(Y)\n",
        "        return X, Y\n",
        "\n",
        "def load_CIFAR10(ROOT):\n",
        "    \"\"\" load all of cifar \"\"\"\n",
        "    xs = []\n",
        "    ys = []\n",
        "    for b in range(1,6):\n",
        "        f = os.path.join(ROOT, 'data_batch_%d' % (b, ))\n",
        "        X, Y = load_CIFAR_batch(f)\n",
        "        xs.append(X)\n",
        "        ys.append(Y)    \n",
        "    Xtr = np.concatenate(xs)\n",
        "    Ytr = np.concatenate(ys)\n",
        "    del X, Y\n",
        "    Xte, Yte = load_CIFAR_batch(os.path.join(ROOT, 'test_batch'))\n",
        "    return Xtr, Ytr, Xte, Yte"
      ],
      "execution_count": 0,
      "outputs": []
    },
    {
      "metadata": {
        "id": "cKc9QoeeUCJL",
        "colab_type": "code",
        "colab": {
          "autoexec": {
            "startup": false,
            "wait_interval": 0
          }
        }
      },
      "cell_type": "code",
      "source": [
        "def augment(images, labels,\n",
        "            resize=None, # (width, height) tuple or None\n",
        "            horizontal_flip=False,\n",
        "            vertical_flip=False,\n",
        "            rotate=0, # Maximum rotation angle in degrees\n",
        "            crop_probability=0, # How often we do crops\n",
        "            crop_min_percent=0.6, # Minimum linear dimension of a crop\n",
        "            crop_max_percent=1.,  # Maximum linear dimension of a crop\n",
        "            mixup=0):  # Mixup coeffecient, see https://arxiv.org/abs/1710.09412.pdf\n",
        "  if resize is not None:\n",
        "    images = tf.image.resize_bilinear(images, resize)\n",
        "  \n",
        "  # My experiments showed that casting on GPU improves training performance\n",
        "  if images.dtype != tf.float32:\n",
        "    images = tf.image.convert_image_dtype(images, dtype=tf.float32)\n",
        "    images = tf.subtract(images, 0.5)\n",
        "    images = tf.multiply(images, 2.0)\n",
        "  labels = tf.to_float(labels)\n",
        "\n",
        "  with tf.name_scope('augmentation'):\n",
        "    shp = tf.shape(images)\n",
        "    batch_size, height, width = shp[0], shp[1], shp[2]\n",
        "    width = tf.cast(width, tf.float32)\n",
        "    height = tf.cast(height, tf.float32)\n",
        "\n",
        "    # The list of affine transformations that our image will go under.\n",
        "    # Every element is Nx8 tensor, where N is a batch size.\n",
        "    transforms = []\n",
        "    identity = tf.constant([1, 0, 0, 0, 1, 0, 0, 0], dtype=tf.float32)\n",
        "    if horizontal_flip:\n",
        "      coin = tf.less(tf.random_uniform([batch_size], 0, 1.0), 0.5)\n",
        "      flip_transform = tf.convert_to_tensor(\n",
        "          [-1., 0., width, 0., 1., 0., 0., 0.], dtype=tf.float32)\n",
        "      transforms.append(\n",
        "          tf.where(coin,\n",
        "                   tf.tile(tf.expand_dims(flip_transform, 0), [batch_size, 1]),\n",
        "                   tf.tile(tf.expand_dims(identity, 0), [batch_size, 1])))\n",
        "\n",
        "    if vertical_flip:\n",
        "      coin = tf.less(tf.random_uniform([batch_size], 0, 1.0), 0.5)\n",
        "      flip_transform = tf.convert_to_tensor(\n",
        "          [1, 0, 0, 0, -1, height, 0, 0], dtype=tf.float32)\n",
        "      transforms.append(\n",
        "          tf.where(coin,\n",
        "                   tf.tile(tf.expand_dims(flip_transform, 0), [batch_size, 1]),\n",
        "                   tf.tile(tf.expand_dims(identity, 0), [batch_size, 1])))\n",
        "\n",
        "    if rotate > 0:\n",
        "      angle_rad = rotate / 180 * math.pi\n",
        "      angles = tf.random_uniform([batch_size], -angle_rad, angle_rad)\n",
        "      transforms.append(\n",
        "          tf.contrib.image.angles_to_projective_transforms(\n",
        "              angles, height, width))\n",
        "\n",
        "    if crop_probability > 0:\n",
        "      crop_pct = tf.random_uniform([batch_size], crop_min_percent,\n",
        "                                   crop_max_percent)\n",
        "      left = tf.random_uniform([batch_size], 0, width * (1 - crop_pct))\n",
        "      top = tf.random_uniform([batch_size], 0, height * (1 - crop_pct))\n",
        "      crop_transform = tf.stack([\n",
        "          crop_pct,\n",
        "          tf.zeros([batch_size]), top,\n",
        "          tf.zeros([batch_size]), crop_pct, left,\n",
        "          tf.zeros([batch_size]),\n",
        "          tf.zeros([batch_size])\n",
        "      ], 1)\n",
        "\n",
        "      coin = tf.less(\n",
        "          tf.random_uniform([batch_size], 0, 1.0), crop_probability)\n",
        "      transforms.append(\n",
        "          tf.where(coin, crop_transform,\n",
        "                   tf.tile(tf.expand_dims(identity, 0), [batch_size, 1])))\n",
        "\n",
        "    if transforms:\n",
        "      images = tf.contrib.image.transform(\n",
        "          images,\n",
        "          tf.contrib.image.compose_transforms(*transforms),\n",
        "          interpolation='BILINEAR') # or 'NEAREST'\n",
        "\n",
        "    def cshift(values): # Circular shift in batch dimension\n",
        "      return tf.concat([values[-1:, ...], values[:-1, ...]], 0)\n",
        "\n",
        "    if mixup > 0:\n",
        "      beta = tf.distributions.Beta(mixup, mixup)\n",
        "      lam = beta.sample(batch_size)\n",
        "      ll = tf.expand_dims(tf.expand_dims(tf.expand_dims(lam, -1), -1), -1)\n",
        "      images = ll * images + (1 - ll) * cshift(images)\n",
        "      labels = lam * labels + (1 - lam) * cshift(labels)\n",
        "  labels = tf.cast(labels, tf.int32)\n",
        "  return images, labels"
      ],
      "execution_count": 0,
      "outputs": []
    },
    {
      "metadata": {
        "id": "lOHCrbiM_3TB",
        "colab_type": "code",
        "colab": {
          "autoexec": {
            "startup": false,
            "wait_interval": 0
          }
        }
      },
      "cell_type": "code",
      "source": [
        "def color_preprocessing(x_train,x_test):\n",
        "    x_train = x_train.astype('float32')\n",
        "    x_test = x_test.astype('float32')\n",
        "    mean = [125.307, 122.95, 113.865]\n",
        "    std  = [62.9932, 62.0887, 66.7048]\n",
        "    for i in range(3):\n",
        "        x_train[:,i,:,:] = (x_train[:,i,:,:] - mean[i]) / std[i]\n",
        "        x_test[:,i,:,:] = (x_test[:,i,:,:] - mean[i]) / std[i]\n",
        "\n",
        "    return x_train, x_test\n",
        "\n",
        "def scheduler(epoch):\n",
        "    learning_rate = 1e-3\n",
        "    if epoch > 80:\n",
        "        learning_rate *= 0.5e-3\n",
        "    elif epoch > 60:\n",
        "        learning_rate *= 1e-3\n",
        "    elif epoch > 40:\n",
        "        learning_rate *= 1e-2\n",
        "    elif epoch > 20:\n",
        "        learning_rate *= 1e-1\n",
        "    return learning_rate"
      ],
      "execution_count": 0,
      "outputs": []
    },
    {
      "metadata": {
        "id": "8SxmIe6ovaDc",
        "colab_type": "code",
        "colab": {
          "autoexec": {
            "startup": false,
            "wait_interval": 0
          }
        }
      },
      "cell_type": "code",
      "source": [
        "plt.rcParams['figure.figsize'] = (10.0, 8.0) \n",
        "\n",
        "cifar10_dir = './cifar10/cifar-10-batches-py'\n",
        "X_train, y_train, X_test, y_test = load_CIFAR10(cifar10_dir)\n",
        "\n",
        "X_train, X_test = color_preprocessing(X_train, X_test)"
      ],
      "execution_count": 0,
      "outputs": []
    },
    {
      "metadata": {
        "id": "rEOUXo2jCdz4",
        "colab_type": "code",
        "colab": {
          "autoexec": {
            "startup": false,
            "wait_interval": 0
          },
          "base_uri": "https://localhost:8080/",
          "height": 34
        },
        "outputId": "db7ef0ad-b561-4544-c0d0-d92917cab9e8",
        "executionInfo": {
          "status": "ok",
          "timestamp": 1525590517108,
          "user_tz": -180,
          "elapsed": 657,
          "user": {
            "displayName": "Михаил Сергеевич Егоров",
            "photoUrl": "https://lh3.googleusercontent.com/a/default-user=s128",
            "userId": "110484987820042064694"
          }
        }
      },
      "cell_type": "code",
      "source": [
        "print(X_train.shape, y_train.shape, X_test.shape)"
      ],
      "execution_count": 10,
      "outputs": [
        {
          "output_type": "stream",
          "text": [
            "(50000, 3, 32, 32) (50000,) (10000, 3, 32, 32)\n"
          ],
          "name": "stdout"
        }
      ]
    },
    {
      "metadata": {
        "id": "DuX4B9xuvaDf",
        "colab_type": "code",
        "colab": {
          "autoexec": {
            "startup": false,
            "wait_interval": 0
          },
          "base_uri": "https://localhost:8080/",
          "height": 492
        },
        "outputId": "da0490ba-3961-4858-b054-e48519fcb8d7",
        "executionInfo": {
          "status": "ok",
          "timestamp": 1525590522498,
          "user_tz": -180,
          "elapsed": 4722,
          "user": {
            "displayName": "Михаил Сергеевич Егоров",
            "photoUrl": "https://lh3.googleusercontent.com/a/default-user=s128",
            "userId": "110484987820042064694"
          }
        }
      },
      "cell_type": "code",
      "source": [
        "classes = ['plane', 'car', 'bird', 'cat', 'deer', 'dog', 'frog', 'horse', 'ship', 'truck']\n",
        "num_classes = len(classes)\n",
        "samples_per_class = 7\n",
        "for y, cls in enumerate(classes):\n",
        "    idxs = np.flatnonzero(y_train == y)\n",
        "    idxs = np.random.choice(idxs, samples_per_class, replace=False)\n",
        "    for i, idx in enumerate(idxs):\n",
        "        plt_idx = i * num_classes + y + 1\n",
        "        plt.subplot(samples_per_class, num_classes, plt_idx)\n",
        "        plt.imshow(X_train[idx].astype('uint8').transpose(1, 2, 0))\n",
        "        plt.axis('off')\n",
        "        if i == 0:\n",
        "            plt.title(cls)\n",
        "plt.show()"
      ],
      "execution_count": 11,
      "outputs": [
        {
          "output_type": "display_data",
          "data": {
            "image/png": "[encoded data removed]",
            "text/plain": [
              "<matplotlib.figure.Figure at 0x7febeee46d68>"
            ]
          },
          "metadata": {
            "tags": []
          }
        }
      ]
    },
    {
      "metadata": {
        "id": "h2EwE1rUawa4",
        "colab_type": "code",
        "colab": {
          "autoexec": {
            "startup": false,
            "wait_interval": 0
          }
        }
      },
      "cell_type": "code",
      "source": [
        "# config\n",
        "batch_size    = 128\n",
        "epochs        = 200\n",
        "iterations    = 391\n",
        "num_classes   = 10\n",
        "dropout       = 0.5\n",
        "weight_decay  = 0.0001"
      ],
      "execution_count": 0,
      "outputs": []
    },
    {
      "metadata": {
        "id": "JZ-zWYnIRphx",
        "colab_type": "code",
        "colab": {
          "autoexec": {
            "startup": false,
            "wait_interval": 0
          }
        }
      },
      "cell_type": "code",
      "source": [
        "# Write your convolutional NN with Tensorflow (example in seminar).\n",
        "# Create new graph\n",
        "graph = tf.Graph()\n",
        "# whether to retrain model from scratch or use saved model\n",
        "init = True\n",
        "model_name = \"model_7.13.4.7.7l_8\"\n",
        "\n",
        "with graph.as_default():\n",
        "    # Placeholders\n",
        "    X = tf.placeholder(dtype=tf.float32, shape=[None, 32, 32, 3])\n",
        "    y = tf.placeholder(dtype=tf.int32, shape=[None])\n",
        "    training = tf.placeholder(dtype=tf.bool)\n",
        "    \n",
        "    X, y = tf.cond(tf.equal(training, tf.constant(True)), \n",
        "                   lambda: augment(X, y,\n",
        "                         horizontal_flip=True, rotate=15, crop_probability=0.8, mixup=4.0),\n",
        "                   lambda: (X, y))\n",
        "    \n",
        "    # create global step for decaying learning rate\n",
        "    global_step = tf.Variable(0, trainable=False)\n",
        "\n",
        "    # lambda 6\n",
        "    lamC = 0.0001\n",
        "    lamF = 0.0025000\n",
        "        \n",
        "    \n",
        "    learning_rate = tf.placeholder(tf.float32, shape=[], name='learning_rate') \n",
        "\n",
        "    # Small epsilon value for the BN transform\n",
        "    epsilon = 1e-3\n",
        "    \n",
        "    with tf.name_scope('conv1') as scope:\n",
        "        # Convolutional layer 1 \n",
        "        conv1 = tf.layers.conv2d(\n",
        "            X,                           # Input data\n",
        "            filters=192,                  # 192 filters\n",
        "            kernel_size=(5, 5),          # Kernel size: 5x5\n",
        "            strides=(1, 1),              # Stride: 1\n",
        "            padding='SAME',              # \"same\" padding\n",
        "            activation=None,             # None\n",
        "            kernel_initializer=tf.truncated_normal_initializer(stddev=5e-2, seed=10),\n",
        "            kernel_regularizer=tf.contrib.layers.l2_regularizer(scale=lamC),\n",
        "            name='conv1'                 \n",
        "        )\n",
        "        \n",
        "        bn1 = tf.layers.batch_normalization(\n",
        "            conv1,\n",
        "            axis=-1,\n",
        "            momentum=0.99,\n",
        "            epsilon=epsilon,\n",
        "            center=True,\n",
        "            scale=True,\n",
        "            beta_initializer=tf.zeros_initializer(),\n",
        "            gamma_initializer=tf.ones_initializer(),\n",
        "            moving_mean_initializer=tf.zeros_initializer(),\n",
        "            moving_variance_initializer=tf.ones_initializer(),\n",
        "            training=training,\n",
        "            name='bn1'\n",
        "        )\n",
        "        #apply relu\n",
        "        conv1_bn_relu = tf.nn.relu(bn1, name='relu1')\n",
        "\n",
        "        conv1_bn_relu = tf.layers.dropout(conv1_bn_relu, rate=0.1, seed=9, training=training)\n",
        "    \n",
        "    with tf.name_scope('conv1_1') as scope:\n",
        "        # Convolutional layer 1_1\n",
        "        conv1_1 = tf.layers.conv2d(\n",
        "            conv1_bn_relu,                           # Input data\n",
        "            filters=160,                  # 160 filters\n",
        "            kernel_size=(1, 1),          # Kernel size: 1x1\n",
        "            strides=(1, 1),              # Stride: 1\n",
        "            padding='SAME',              # \"same\" padding\n",
        "            activation=None,             # None\n",
        "            kernel_initializer=tf.truncated_normal_initializer(stddev=5e-2, seed=8),\n",
        "            kernel_regularizer=tf.contrib.layers.l2_regularizer(scale=lamC),\n",
        "            name='conv1_1'                  # Add name\n",
        "        )\n",
        "\n",
        "        #apply relu\n",
        "        conv1_1_bn_relu = tf.nn.relu(conv1_1, name='relu1_1')\n",
        "        \n",
        "    with tf.name_scope('conv1_2') as scope:\n",
        "        # Convolutional layer 1_2\n",
        "        conv1_2 = tf.layers.conv2d(\n",
        "            conv1_1_bn_relu,                           # Input data\n",
        "            filters=96,                  # 96 filters\n",
        "            kernel_size=(1, 1),          # Kernel size: 1x1\n",
        "            strides=(1, 1),\n",
        "            padding='SAME',              # \"same\" padding\n",
        "            activation=None,             # None\n",
        "            kernel_initializer=tf.truncated_normal_initializer(stddev=5e-2, seed=15),\n",
        "            kernel_regularizer=tf.contrib.layers.l2_regularizer(scale=lamC),\n",
        "            name='conv1_2'                 \n",
        "        )\n",
        "        #apply relu\n",
        "        conv1_2_relu = tf.nn.relu(conv1_2, name='relu1_2')\n",
        "    \n",
        "    with tf.name_scope('pool1') as scope:\n",
        "         # Max pooling layer 1\n",
        "        pool1 = tf.layers.max_pooling2d(\n",
        "            conv1_2_relu,                       # Input\n",
        "            pool_size=(3, 3),            # Pool size: 3x3\n",
        "            strides=(2, 2),              # Stride: 2\n",
        "            padding='SAME',              # \"same\" padding\n",
        "            name='pool1'\n",
        "        )\n",
        "\n",
        "        # dropout at 50%\n",
        "        pool1 = tf.layers.dropout(pool1, rate=0.5, seed=1, training=training)\n",
        "\n",
        "    with tf.name_scope('conv2') as scope:\n",
        "        # Convolutional layer 2\n",
        "        conv2= tf.layers.conv2d(\n",
        "            pool1,                       # Input\n",
        "            filters=192,                  # 192 filters\n",
        "            kernel_size=(5, 5),          # Kernel size: 5x5\n",
        "            strides=(1, 1),              # Stride: 1\n",
        "            padding='SAME',              # \"same\" padding\n",
        "            activation=None,             # None\n",
        "            kernel_initializer=tf.truncated_normal_initializer(stddev=5e-2, seed=7),\n",
        "            kernel_regularizer=tf.contrib.layers.l2_regularizer(scale=lamC),\n",
        "            name='conv2'                 \n",
        "        )\n",
        "        \n",
        "        bn2 = tf.layers.batch_normalization(\n",
        "            conv2,\n",
        "            axis=-1,\n",
        "            momentum=0.99,\n",
        "            epsilon=epsilon,\n",
        "            center=True,\n",
        "            scale=True,\n",
        "            beta_initializer=tf.zeros_initializer(),\n",
        "            gamma_initializer=tf.ones_initializer(),\n",
        "            moving_mean_initializer=tf.zeros_initializer(),\n",
        "            moving_variance_initializer=tf.ones_initializer(),\n",
        "            training=training,\n",
        "            name='bn2'\n",
        "        )\n",
        "\n",
        "        #apply relu\n",
        "        conv2_bn_relu = tf.nn.relu(bn2, name='relu2')\n",
        "        \n",
        "        # dropout at 10%\n",
        "        conv2_bn_relu = tf.layers.dropout(conv2_bn_relu, rate=0.1, seed=0, training=training)\n",
        "\n",
        "    with tf.name_scope('conv2_1') as scope:\n",
        "        # Convolutional layer 2_1\n",
        "        conv2_1 = tf.layers.conv2d(\n",
        "            conv2_bn_relu,                           # Input data\n",
        "            filters=192,                  # 192 filters\n",
        "            kernel_size=(1, 1),          # Kernel size: 1x1\n",
        "            strides=(1, 1),              # Stride: 1\n",
        "            padding='SAME',              # \"same\" padding\n",
        "            activation=None,             # None\n",
        "            kernel_initializer=tf.truncated_normal_initializer(stddev=5e-2, seed=18),\n",
        "            kernel_regularizer=tf.contrib.layers.l2_regularizer(scale=lamC),\n",
        "            name='conv2_1'                  # Add name\n",
        "        )\n",
        "\n",
        "        #apply relu\n",
        "        conv2_1_bn_relu = tf.nn.relu(conv2_1, name='relu2_1')\n",
        "        \n",
        "    with tf.name_scope('conv2_2') as scope:\n",
        "        # Convolutional layer 2_2\n",
        "        conv2_2= tf.layers.conv2d(\n",
        "            conv2_1_bn_relu,                           # Input data\n",
        "            filters=192,                  # 192 filters\n",
        "            kernel_size=(1, 1),          # Kernel size: 1x1\n",
        "            strides=(1, 1),\n",
        "            padding='SAME',              # \"same\" padding\n",
        "            activation=None,             # None\n",
        "            kernel_initializer=tf.truncated_normal_initializer(stddev=5e-2, seed=7),\n",
        "            kernel_regularizer=tf.contrib.layers.l2_regularizer(scale=lamC),\n",
        "            name='conv2_2'                 \n",
        "        )\n",
        "        #apply relu\n",
        "        conv2_2_relu = tf.nn.relu(conv2_2, name='relu2_2')\n",
        "        \n",
        "    with tf.name_scope('pool2') as scope:\n",
        "        # Max pooling layer 2 \n",
        "        pool2 = tf.layers.max_pooling2d(\n",
        "            conv2_2_relu,                       # input\n",
        "            pool_size=(3, 3),            # pool size 3x3\n",
        "            strides=(2, 2),              # stride 2\n",
        "            padding='SAME',\n",
        "            name='pool2'\n",
        "        )\n",
        "        # dropout at 50%\n",
        "        pool2 = tf.layers.dropout(pool2, rate=0.5, seed=10, training=training)\n",
        "\n",
        "\n",
        "    with tf.name_scope('conv3') as scope:\n",
        "        # Convolutional layer 3\n",
        "        conv3= tf.layers.conv2d(\n",
        "            pool2,                       # Input\n",
        "            filters=192,                 # 192 filters\n",
        "            kernel_size=(3, 3),          # Kernel size: 3x3\n",
        "            strides=(1, 1),              # Stride: 1\n",
        "            padding='SAME',              # \"same\" padding\n",
        "            activation=None,       \n",
        "            kernel_initializer=tf.truncated_normal_initializer(stddev=5e-2, seed=2),\n",
        "            kernel_regularizer=tf.contrib.layers.l2_regularizer(scale=lamC),\n",
        "            name='conv3'                 \n",
        "        )\n",
        "        \n",
        "        bn3 = tf.layers.batch_normalization(\n",
        "            conv3,\n",
        "            axis=-1,\n",
        "            momentum=0.99,\n",
        "            epsilon=epsilon,\n",
        "            center=True,\n",
        "            scale=True,\n",
        "            beta_initializer=tf.zeros_initializer(),\n",
        "            gamma_initializer=tf.ones_initializer(),\n",
        "            moving_mean_initializer=tf.zeros_initializer(),\n",
        "            moving_variance_initializer=tf.ones_initializer(),\n",
        "            training=training,\n",
        "            name='bn3'\n",
        "        )\n",
        "        \n",
        "        # activation\n",
        "        conv3_bn_relu = tf.nn.relu(bn3, name='relu3')\n",
        "\n",
        "        # try dropout here\n",
        "        conv3_bn_relu = tf.layers.dropout(conv3_bn_relu, rate=0.1, seed=3, training=training)    \n",
        "\n",
        "    with tf.name_scope('conv3_1') as scope:\n",
        "        # Convolutional layer 3_1\n",
        "        conv3_1 = tf.layers.conv2d(\n",
        "            conv3_bn_relu,                           # Input data\n",
        "            filters=192,                  # 192 filters\n",
        "            kernel_size=(1, 1),          # Kernel size: 1x1\n",
        "            strides=(1, 1),              # Stride: 1\n",
        "            padding='SAME',              # \"same\" padding\n",
        "            activation=None,             # None\n",
        "            kernel_initializer=tf.truncated_normal_initializer(stddev=5e-2, seed=9),\n",
        "            kernel_regularizer=tf.contrib.layers.l2_regularizer(scale=lamC),\n",
        "            name='conv3_1'                  # Add name\n",
        "        )\n",
        "\n",
        "        #apply relu\n",
        "        conv3_1_bn_relu = tf.nn.relu(conv3_1, name='relu3_1')\n",
        "        \n",
        "    with tf.name_scope('conv3_2') as scope:\n",
        "        # Convolutional layer 3_2 \n",
        "        conv3_2= tf.layers.conv2d(\n",
        "            conv3_1_bn_relu,                           # Input data\n",
        "            filters=10,                  # 10 filters\n",
        "            kernel_size=(1, 1),          # Kernel size: 1x1\n",
        "            strides=(1, 1),\n",
        "            padding='SAME',              # \"same\" padding\n",
        "            activation=None,             # None\n",
        "            kernel_initializer=tf.truncated_normal_initializer(stddev=5e-2, seed=6),\n",
        "            kernel_regularizer=tf.contrib.layers.l2_regularizer(scale=lamC),\n",
        "            name='conv3_2'                 \n",
        "        )\n",
        "        #apply relu\n",
        "        conv3_2_relu = tf.nn.relu(conv3_2, name='relu3_2')\n",
        "        \n",
        "    with tf.name_scope('pool3') as scope:\n",
        "        # Max pooling layer 3\n",
        "        pool3 = tf.layers.average_pooling2d(\n",
        "            conv3_2_relu,               # input\n",
        "            pool_size=(8, 8),            # pool size 8x8\n",
        "            strides=(8, 8),              # stride 8\n",
        "            padding='SAME',\n",
        "            name='pool3'\n",
        "        )\n",
        "    \n",
        "    with tf.name_scope('flatten') as scope:\n",
        "        # Flatten output\n",
        "        flat_output = tf.contrib.layers.flatten(pool3)\n",
        "\n",
        " \n",
        "    # Output layer\n",
        "    logits = tf.layers.dense(\n",
        "        flat_output,                         # input\n",
        "        num_classes,                           # One output unit per category\n",
        "        activation=None,             # No activation function\n",
        "        kernel_initializer=tf.variance_scaling_initializer(scale=1, seed=6),\n",
        "        bias_initializer=tf.zeros_initializer(),\n",
        "        name=\"logits\"\n",
        "    )\n",
        "    \n",
        "    # Mean cross-entropy\n",
        "    mean_ce = tf.reduce_mean(tf.nn.sparse_softmax_cross_entropy_with_logits(labels=y, logits=logits))\n",
        "    loss = mean_ce + tf.losses.get_regularization_loss()\n",
        "    \n",
        "    # Adam optimizer\n",
        "    optimizer = tf.train.AdamOptimizer(learning_rate=learning_rate)\n",
        "    \n",
        "    # Minimize cross-entropy\n",
        "    train_op = optimizer.minimize(loss, global_step=global_step)\n",
        "\n",
        "    # Compute predictions and accuracy\n",
        "    predictions = tf.argmax(logits, axis=1, output_type=tf.int32)\n",
        "    is_correct = tf.equal(y, predictions)\n",
        "    accuracy = tf.reduce_mean(tf.cast(is_correct, dtype=tf.float32))\n",
        "    \n",
        "    # add this so that the batch norm gets run\n",
        "    extra_update_ops = tf.get_collection(tf.GraphKeys.UPDATE_OPS)\n",
        "    \n",
        "    # Create summary hooks\n",
        "    tf.summary.scalar('accuracy', accuracy)\n",
        "    tf.summary.scalar('cross_entropy', mean_ce)\n",
        "    tf.summary.scalar('learning_rate', learning_rate)\n",
        "    \n",
        "    # Merge all the summaries and write them out to /tmp/mnist_logs (by default)\n",
        "    merged = tf.summary.merge_all()\n",
        "\n"
      ],
      "execution_count": 0,
      "outputs": []
    },
    {
      "metadata": {
        "id": "7T-NnW1Vkti1",
        "colab_type": "code",
        "colab": {
          "autoexec": {
            "startup": false,
            "wait_interval": 0
          }
        }
      },
      "cell_type": "code",
      "source": [
        "def train_fn(X_tr, y_tr, sess, epoch):\n",
        "    '''\n",
        "    returns tuple (loss, accuracy) for model train phase\n",
        "    '''\n",
        "    # Run training and evaluate accuracy\n",
        "    X_tr = X_tr.reshape((batch_size, 32, 32, 3))\n",
        "    _, _, summary, acc_value, loss_value, step = sess.run([train_op, extra_update_ops, merged, accuracy, loss, global_step], feed_dict={\n",
        "                    X: X_tr,\n",
        "                    y: y_tr,\n",
        "                    training: True,\n",
        "                    learning_rate: scheduler(epoch)\n",
        "                })\n",
        "    return (loss_value, acc_value)\n",
        "\n",
        "def eval_fn(X_ev, y_ev, sess, epoch):\n",
        "    '''\n",
        "    returns tuple (loss, accuracy) for model evaluation phase\n",
        "    '''\n",
        "    X_ev = X_ev.reshape((batch_size, 32, 32, 3))\n",
        "    summary, valid_acc, valid_loss = sess.run([merged, accuracy, loss], feed_dict={\n",
        "                X: X_ev,\n",
        "                y: y_ev,\n",
        "                training: False,\n",
        "                learning_rate: scheduler(epoch)\n",
        "            })\n",
        "    return (valid_loss, valid_acc)\n",
        "\n",
        "def predict_fn(X_pr, sess, epoch):\n",
        "    '''\n",
        "    returns y_pred for model predict phase\n",
        "    '''\n",
        "    X_pr = X_pr.reshape((batch_size, 32, 32, 3))\n",
        "    predict = sess.run([predictions], feed_dict={\n",
        "                X: X_pr,\n",
        "                training: False,\n",
        "                learning_rate: scheduler(epoch)\n",
        "            })\n",
        "    return predict"
      ],
      "execution_count": 0,
      "outputs": []
    },
    {
      "metadata": {
        "id": "Xd3r2c_VWig2",
        "colab_type": "code",
        "colab": {
          "autoexec": {
            "startup": false,
            "wait_interval": 0
          }
        }
      },
      "cell_type": "code",
      "source": [
        "def iterate_minibatches(inputs, targets, batchsize, shuffle=False):\n",
        "    assert len(inputs) == len(targets)\n",
        "    if shuffle:\n",
        "        indices = np.arange(len(inputs))\n",
        "        np.random.shuffle(indices)\n",
        "    for start_idx in range(0, len(inputs) - batchsize + 1, batchsize):\n",
        "        if shuffle:\n",
        "            excerpt = indices[start_idx:start_idx + batchsize]\n",
        "        else:\n",
        "            excerpt = slice(start_idx, start_idx + batchsize)\n",
        "        yield inputs[excerpt], targets[excerpt]"
      ],
      "execution_count": 0,
      "outputs": []
    },
    {
      "metadata": {
        "id": "O0UeaF8MvaDr",
        "colab_type": "code",
        "colab": {
          "autoexec": {
            "startup": false,
            "wait_interval": 0
          }
        }
      },
      "cell_type": "code",
      "source": [
        "# @TODO: add your code for train&validation metrics plots:\n",
        "#  - epoch loss (train&validation - 2 curves on same figure)\n",
        "#  - epoch accurary (train&validation - 2 curves on same figure)"
      ],
      "execution_count": 0,
      "outputs": []
    },
    {
      "metadata": {
        "id": "RY4QZI296iUp",
        "colab_type": "code",
        "colab": {
          "autoexec": {
            "startup": false,
            "wait_interval": 0
          }
        }
      },
      "cell_type": "code",
      "source": [
        "init = True"
      ],
      "execution_count": 0,
      "outputs": []
    },
    {
      "metadata": {
        "id": "be5cjmPdvaDv",
        "colab_type": "code",
        "colab": {
          "autoexec": {
            "startup": false,
            "wait_interval": 0
          },
          "base_uri": "https://localhost:8080/",
          "height": 1941
        },
        "outputId": "8caad42c-1d2a-48f2-b5a5-b93e644e0686",
        "executionInfo": {
          "status": "error",
          "timestamp": 1525616798179,
          "user_tz": -180,
          "elapsed": 13028,
          "user": {
            "displayName": "Михаил Сергеевич Егоров",
            "photoUrl": "https://lh3.googleusercontent.com/a/default-user=s128",
            "userId": "110484987820042064694"
          }
        }
      },
      "cell_type": "code",
      "source": [
        "train_loss_history = []\n",
        "valid_loss_history = []\n",
        "train_accuracy_history = []\n",
        "valid_accuracy_history = []\n",
        "config = tf.ConfigProto()\n",
        "\n",
        "with tf.Session(graph=graph, config=config) as sess:\n",
        "    saver = tf.train.Saver()\n",
        "    if init:\n",
        "        sess.run(tf.global_variables_initializer())\n",
        "    else:\n",
        "        saver.restore(sess, './model/cifar_'+model_name+'.ckpt')\n",
        "        \n",
        "    # Set seed\n",
        "    np.random.seed(0)\n",
        "    \n",
        "    for epoch in range(epochs):\n",
        "        # In each epoch, we do a full pass over the training data:\n",
        "        train_loss = 0\n",
        "        train_acc = 0\n",
        "        train_batches = 0\n",
        "        start_time = time.time()\n",
        "        for batch in iterate_minibatches(X_train, y_train, batch_size):\n",
        "            inputs, targets = batch\n",
        "            train_loss_batch, train_acc_batch = train_fn(inputs, targets, sess, epoch)\n",
        "            train_loss += train_loss_batch\n",
        "            train_acc += train_acc_batch\n",
        "            train_batches += 1\n",
        "        train_loss_history.append(train_loss / train_batches)\n",
        "        train_accuracy_history.append(train_acc / train_batches)\n",
        "    \n",
        "        # And a full pass over the validation data:\n",
        "        valid_loss = 0\n",
        "        valid_acc = 0\n",
        "        valid_batches = 0\n",
        "        for batch in iterate_minibatches(X_test, y_test, batch_size):\n",
        "            inputs, targets = batch\n",
        "            valid_loss_batch, valid_acc_batch = eval_fn(inputs, targets, sess, epoch)\n",
        "            valid_loss += valid_loss_batch\n",
        "            valid_acc += valid_acc_batch\n",
        "            valid_batches += 1\n",
        "        valid_loss_history.append(valid_loss / valid_batches)\n",
        "        valid_accuracy_history.append(valid_acc / valid_batches)\n",
        "            \n",
        "        # Visualize\n",
        "        display.clear_output(wait=True)\n",
        "\n",
        "        plt.figure(figsize=(8, 6))   \n",
        "        plt.title(\"Training and Eval loss\")\n",
        "        plt.xlabel(\"#iteration\")\n",
        "        plt.ylabel(\"loss\")\n",
        "        plt.plot(train_loss_history, 'b', label='train')\n",
        "        plt.plot(valid_loss_history, 'g', label='eval')\n",
        "        plt.legend()\n",
        "        plt.show()\n",
        "\n",
        "        plt.figure(figsize=(8, 6))   \n",
        "        plt.title(\"Training and Eval accuracy\")\n",
        "        plt.xlabel(\"#iteration\")\n",
        "        plt.ylabel(\"accuracy\")\n",
        "        plt.plot(train_accuracy_history, 'b', label='train')\n",
        "        plt.plot(valid_accuracy_history, 'g', label='eval')\n",
        "        plt.legend()\n",
        "        plt.show()\n",
        "    \n",
        "        # Then we print the results for this epoch:\n",
        "        print(\"Epoch {} of {} took {:.3f}s\".format(epoch + 1, epochs, time.time() - start_time))\n",
        "        print(\"  train loss:\\t\\t{:.6f}\".format(train_loss / train_batches))\n",
        "        print(\"  train accuracy:\\t\\t{:.2f} %\".format(train_acc / train_batches * 100))\n",
        "        print(\"  valid loss:\\t\\t{:.6f}\".format(valid_loss / valid_batches))\n",
        "        print(\"  valid accuracy:\\t\\t{:.2f} %\".format(valid_acc / valid_batches * 100))\n",
        "        \n",
        "        # save the session\n",
        "        save_path = saver.save(sess, './model/cifar_'+model_name+'.ckpt')\n",
        "        init = False"
      ],
      "execution_count": 68,
      "outputs": [
        {
          "output_type": "display_data",
          "data": {
            "image/png": "[encoded data removed]",
            "text/plain": [
              "<matplotlib.figure.Figure at 0x7feb37f5f390>"
            ]
          },
          "metadata": {
            "tags": []
          }
        },
        {
          "output_type": "display_data",
          "data": {
            "image/png": "[encoded data removed]",
            "text/plain": [
              "<matplotlib.figure.Figure at 0x7feb384c3ba8>"
            ]
          },
          "metadata": {
            "tags": []
          }
        },
        {
          "output_type": "stream",
          "text": [
            "Epoch 82 of 200 took 76.446s\n",
            "  train loss:\t\t0.445538\n",
            "  train accuracy:\t\t91.54 %\n",
            "  valid loss:\t\t1.313058\n",
            "  valid accuracy:\t\t74.78 %\n"
          ],
          "name": "stdout"
        },
        {
          "output_type": "error",
          "ename": "KeyboardInterrupt",
          "evalue": "ignored",
          "traceback": [
            "\u001b[0;31m---------------------------------------------------------------------------\u001b[0m",
            "\u001b[0;31mKeyboardInterrupt\u001b[0m                         Traceback (most recent call last)",
            "\u001b[0;32m<ipython-input-68-14c0c8a3ebff>\u001b[0m in \u001b[0;36m<module>\u001b[0;34m()\u001b[0m\n\u001b[1;32m     23\u001b[0m         \u001b[0;32mfor\u001b[0m \u001b[0mbatch\u001b[0m \u001b[0;32min\u001b[0m \u001b[0miterate_minibatches\u001b[0m\u001b[0;34m(\u001b[0m\u001b[0mX_train\u001b[0m\u001b[0;34m,\u001b[0m \u001b[0my_train\u001b[0m\u001b[0;34m,\u001b[0m \u001b[0mbatch_size\u001b[0m\u001b[0;34m)\u001b[0m\u001b[0;34m:\u001b[0m\u001b[0;34m\u001b[0m\u001b[0m\n\u001b[1;32m     24\u001b[0m             \u001b[0minputs\u001b[0m\u001b[0;34m,\u001b[0m \u001b[0mtargets\u001b[0m \u001b[0;34m=\u001b[0m \u001b[0mbatch\u001b[0m\u001b[0;34m\u001b[0m\u001b[0m\n\u001b[0;32m---> 25\u001b[0;31m             \u001b[0mtrain_loss_batch\u001b[0m\u001b[0;34m,\u001b[0m \u001b[0mtrain_acc_batch\u001b[0m \u001b[0;34m=\u001b[0m \u001b[0mtrain_fn\u001b[0m\u001b[0;34m(\u001b[0m\u001b[0minputs\u001b[0m\u001b[0;34m,\u001b[0m \u001b[0mtargets\u001b[0m\u001b[0;34m,\u001b[0m \u001b[0msess\u001b[0m\u001b[0;34m,\u001b[0m \u001b[0mepoch\u001b[0m\u001b[0;34m)\u001b[0m\u001b[0;34m\u001b[0m\u001b[0m\n\u001b[0m\u001b[1;32m     26\u001b[0m             \u001b[0mtrain_loss\u001b[0m \u001b[0;34m+=\u001b[0m \u001b[0mtrain_loss_batch\u001b[0m\u001b[0;34m\u001b[0m\u001b[0m\n\u001b[1;32m     27\u001b[0m             \u001b[0mtrain_acc\u001b[0m \u001b[0;34m+=\u001b[0m \u001b[0mtrain_acc_batch\u001b[0m\u001b[0;34m\u001b[0m\u001b[0m\n",
            "\u001b[0;32m<ipython-input-63-0f3d626e180a>\u001b[0m in \u001b[0;36mtrain_fn\u001b[0;34m(X_tr, y_tr, sess, epoch)\u001b[0m\n\u001b[1;32m      9\u001b[0m                     \u001b[0my\u001b[0m\u001b[0;34m:\u001b[0m \u001b[0my_tr\u001b[0m\u001b[0;34m,\u001b[0m\u001b[0;34m\u001b[0m\u001b[0m\n\u001b[1;32m     10\u001b[0m                     \u001b[0mtraining\u001b[0m\u001b[0;34m:\u001b[0m \u001b[0;32mTrue\u001b[0m\u001b[0;34m,\u001b[0m\u001b[0;34m\u001b[0m\u001b[0m\n\u001b[0;32m---> 11\u001b[0;31m                     \u001b[0mlearning_rate\u001b[0m\u001b[0;34m:\u001b[0m \u001b[0mscheduler\u001b[0m\u001b[0;34m(\u001b[0m\u001b[0mepoch\u001b[0m\u001b[0;34m)\u001b[0m\u001b[0;34m\u001b[0m\u001b[0m\n\u001b[0m\u001b[1;32m     12\u001b[0m                 })\n\u001b[1;32m     13\u001b[0m     \u001b[0;32mreturn\u001b[0m \u001b[0;34m(\u001b[0m\u001b[0mloss_value\u001b[0m\u001b[0;34m,\u001b[0m \u001b[0macc_value\u001b[0m\u001b[0;34m)\u001b[0m\u001b[0;34m\u001b[0m\u001b[0m\n",
            "\u001b[0;32m/usr/local/lib/python3.6/dist-packages/tensorflow/python/client/session.py\u001b[0m in \u001b[0;36mrun\u001b[0;34m(self, fetches, feed_dict, options, run_metadata)\u001b[0m\n\u001b[1;32m    903\u001b[0m     \u001b[0;32mtry\u001b[0m\u001b[0;34m:\u001b[0m\u001b[0;34m\u001b[0m\u001b[0m\n\u001b[1;32m    904\u001b[0m       result = self._run(None, fetches, feed_dict, options_ptr,\n\u001b[0;32m--> 905\u001b[0;31m                          run_metadata_ptr)\n\u001b[0m\u001b[1;32m    906\u001b[0m       \u001b[0;32mif\u001b[0m \u001b[0mrun_metadata\u001b[0m\u001b[0;34m:\u001b[0m\u001b[0;34m\u001b[0m\u001b[0m\n\u001b[1;32m    907\u001b[0m         \u001b[0mproto_data\u001b[0m \u001b[0;34m=\u001b[0m \u001b[0mtf_session\u001b[0m\u001b[0;34m.\u001b[0m\u001b[0mTF_GetBuffer\u001b[0m\u001b[0;34m(\u001b[0m\u001b[0mrun_metadata_ptr\u001b[0m\u001b[0;34m)\u001b[0m\u001b[0;34m\u001b[0m\u001b[0m\n",
            "\u001b[0;32m/usr/local/lib/python3.6/dist-packages/tensorflow/python/client/session.py\u001b[0m in \u001b[0;36m_run\u001b[0;34m(self, handle, fetches, feed_dict, options, run_metadata)\u001b[0m\n\u001b[1;32m   1138\u001b[0m     \u001b[0;32mif\u001b[0m \u001b[0mfinal_fetches\u001b[0m \u001b[0;32mor\u001b[0m \u001b[0mfinal_targets\u001b[0m \u001b[0;32mor\u001b[0m \u001b[0;34m(\u001b[0m\u001b[0mhandle\u001b[0m \u001b[0;32mand\u001b[0m \u001b[0mfeed_dict_tensor\u001b[0m\u001b[0;34m)\u001b[0m\u001b[0;34m:\u001b[0m\u001b[0;34m\u001b[0m\u001b[0m\n\u001b[1;32m   1139\u001b[0m       results = self._do_run(handle, final_targets, final_fetches,\n\u001b[0;32m-> 1140\u001b[0;31m                              feed_dict_tensor, options, run_metadata)\n\u001b[0m\u001b[1;32m   1141\u001b[0m     \u001b[0;32melse\u001b[0m\u001b[0;34m:\u001b[0m\u001b[0;34m\u001b[0m\u001b[0m\n\u001b[1;32m   1142\u001b[0m       \u001b[0mresults\u001b[0m \u001b[0;34m=\u001b[0m \u001b[0;34m[\u001b[0m\u001b[0;34m]\u001b[0m\u001b[0;34m\u001b[0m\u001b[0m\n",
            "\u001b[0;32m/usr/local/lib/python3.6/dist-packages/tensorflow/python/client/session.py\u001b[0m in \u001b[0;36m_do_run\u001b[0;34m(self, handle, target_list, fetch_list, feed_dict, options, run_metadata)\u001b[0m\n\u001b[1;32m   1319\u001b[0m     \u001b[0;32mif\u001b[0m \u001b[0mhandle\u001b[0m \u001b[0;32mis\u001b[0m \u001b[0;32mNone\u001b[0m\u001b[0;34m:\u001b[0m\u001b[0;34m\u001b[0m\u001b[0m\n\u001b[1;32m   1320\u001b[0m       return self._do_call(_run_fn, feeds, fetches, targets, options,\n\u001b[0;32m-> 1321\u001b[0;31m                            run_metadata)\n\u001b[0m\u001b[1;32m   1322\u001b[0m     \u001b[0;32melse\u001b[0m\u001b[0;34m:\u001b[0m\u001b[0;34m\u001b[0m\u001b[0m\n\u001b[1;32m   1323\u001b[0m       \u001b[0;32mreturn\u001b[0m \u001b[0mself\u001b[0m\u001b[0;34m.\u001b[0m\u001b[0m_do_call\u001b[0m\u001b[0;34m(\u001b[0m\u001b[0m_prun_fn\u001b[0m\u001b[0;34m,\u001b[0m \u001b[0mhandle\u001b[0m\u001b[0;34m,\u001b[0m \u001b[0mfeeds\u001b[0m\u001b[0;34m,\u001b[0m \u001b[0mfetches\u001b[0m\u001b[0;34m)\u001b[0m\u001b[0;34m\u001b[0m\u001b[0m\n",
            "\u001b[0;32m/usr/local/lib/python3.6/dist-packages/tensorflow/python/client/session.py\u001b[0m in \u001b[0;36m_do_call\u001b[0;34m(self, fn, *args)\u001b[0m\n\u001b[1;32m   1325\u001b[0m   \u001b[0;32mdef\u001b[0m \u001b[0m_do_call\u001b[0m\u001b[0;34m(\u001b[0m\u001b[0mself\u001b[0m\u001b[0;34m,\u001b[0m \u001b[0mfn\u001b[0m\u001b[0;34m,\u001b[0m \u001b[0;34m*\u001b[0m\u001b[0margs\u001b[0m\u001b[0;34m)\u001b[0m\u001b[0;34m:\u001b[0m\u001b[0;34m\u001b[0m\u001b[0m\n\u001b[1;32m   1326\u001b[0m     \u001b[0;32mtry\u001b[0m\u001b[0;34m:\u001b[0m\u001b[0;34m\u001b[0m\u001b[0m\n\u001b[0;32m-> 1327\u001b[0;31m       \u001b[0;32mreturn\u001b[0m \u001b[0mfn\u001b[0m\u001b[0;34m(\u001b[0m\u001b[0;34m*\u001b[0m\u001b[0margs\u001b[0m\u001b[0;34m)\u001b[0m\u001b[0;34m\u001b[0m\u001b[0m\n\u001b[0m\u001b[1;32m   1328\u001b[0m     \u001b[0;32mexcept\u001b[0m \u001b[0merrors\u001b[0m\u001b[0;34m.\u001b[0m\u001b[0mOpError\u001b[0m \u001b[0;32mas\u001b[0m \u001b[0me\u001b[0m\u001b[0;34m:\u001b[0m\u001b[0;34m\u001b[0m\u001b[0m\n\u001b[1;32m   1329\u001b[0m       \u001b[0mmessage\u001b[0m \u001b[0;34m=\u001b[0m \u001b[0mcompat\u001b[0m\u001b[0;34m.\u001b[0m\u001b[0mas_text\u001b[0m\u001b[0;34m(\u001b[0m\u001b[0me\u001b[0m\u001b[0;34m.\u001b[0m\u001b[0mmessage\u001b[0m\u001b[0;34m)\u001b[0m\u001b[0;34m\u001b[0m\u001b[0m\n",
            "\u001b[0;32m/usr/local/lib/python3.6/dist-packages/tensorflow/python/client/session.py\u001b[0m in \u001b[0;36m_run_fn\u001b[0;34m(feed_dict, fetch_list, target_list, options, run_metadata)\u001b[0m\n\u001b[1;32m   1310\u001b[0m       \u001b[0mself\u001b[0m\u001b[0;34m.\u001b[0m\u001b[0m_extend_graph\u001b[0m\u001b[0;34m(\u001b[0m\u001b[0;34m)\u001b[0m\u001b[0;34m\u001b[0m\u001b[0m\n\u001b[1;32m   1311\u001b[0m       return self._call_tf_sessionrun(\n\u001b[0;32m-> 1312\u001b[0;31m           options, feed_dict, fetch_list, target_list, run_metadata)\n\u001b[0m\u001b[1;32m   1313\u001b[0m \u001b[0;34m\u001b[0m\u001b[0m\n\u001b[1;32m   1314\u001b[0m     \u001b[0;32mdef\u001b[0m \u001b[0m_prun_fn\u001b[0m\u001b[0;34m(\u001b[0m\u001b[0mhandle\u001b[0m\u001b[0;34m,\u001b[0m \u001b[0mfeed_dict\u001b[0m\u001b[0;34m,\u001b[0m \u001b[0mfetch_list\u001b[0m\u001b[0;34m)\u001b[0m\u001b[0;34m:\u001b[0m\u001b[0;34m\u001b[0m\u001b[0m\n",
            "\u001b[0;32m/usr/local/lib/python3.6/dist-packages/tensorflow/python/client/session.py\u001b[0m in \u001b[0;36m_call_tf_sessionrun\u001b[0;34m(self, options, feed_dict, fetch_list, target_list, run_metadata)\u001b[0m\n\u001b[1;32m   1418\u001b[0m         return tf_session.TF_Run(\n\u001b[1;32m   1419\u001b[0m             \u001b[0mself\u001b[0m\u001b[0;34m.\u001b[0m\u001b[0m_session\u001b[0m\u001b[0;34m,\u001b[0m \u001b[0moptions\u001b[0m\u001b[0;34m,\u001b[0m \u001b[0mfeed_dict\u001b[0m\u001b[0;34m,\u001b[0m \u001b[0mfetch_list\u001b[0m\u001b[0;34m,\u001b[0m \u001b[0mtarget_list\u001b[0m\u001b[0;34m,\u001b[0m\u001b[0;34m\u001b[0m\u001b[0m\n\u001b[0;32m-> 1420\u001b[0;31m             status, run_metadata)\n\u001b[0m\u001b[1;32m   1421\u001b[0m \u001b[0;34m\u001b[0m\u001b[0m\n\u001b[1;32m   1422\u001b[0m   \u001b[0;32mdef\u001b[0m \u001b[0m_call_tf_sessionprun\u001b[0m\u001b[0;34m(\u001b[0m\u001b[0mself\u001b[0m\u001b[0;34m,\u001b[0m \u001b[0mhandle\u001b[0m\u001b[0;34m,\u001b[0m \u001b[0mfeed_dict\u001b[0m\u001b[0;34m,\u001b[0m \u001b[0mfetch_list\u001b[0m\u001b[0;34m)\u001b[0m\u001b[0;34m:\u001b[0m\u001b[0;34m\u001b[0m\u001b[0m\n",
            "\u001b[0;31mKeyboardInterrupt\u001b[0m: "
          ]
        }
      ]
    },
    {
      "metadata": {
        "id": "18gz2eNMqB_Q",
        "colab_type": "text"
      },
      "cell_type": "markdown",
      "source": [
        "Этот график получен уже после того как я обучил сеть до 70% и перезапустил обучение."
      ]
    },
    {
      "metadata": {
        "id": "m8NzHKjUvaDy",
        "colab_type": "code",
        "colab": {
          "autoexec": {
            "startup": false,
            "wait_interval": 0
          }
        }
      },
      "cell_type": "code",
      "source": [
        "# test_acc = 0\n",
        "test_batches = 0\n",
        "for batch in iterate_minibatches(X_test, y_test, 500):\n",
        "    inputs, targets = batch\n",
        "    _, acc = eval_fn(inputs, targets)\n",
        "    test_acc += acc\n",
        "    test_batches += 1\n",
        "print(\"Final results:\")\n",
        "print(\"  test accuracy:\\t\\t{:.2f} %\".format(\n",
        "    test_acc / test_batches * 100))\n",
        "\n",
        "if test_acc / test_batches * 100 > 92.5:\n",
        "    print(\"Achievement unlocked: mage 80 lvl\")\n",
        "else:\n",
        "    print(\"Feed more!\")"
      ],
      "execution_count": 0,
      "outputs": []
    },
    {
      "metadata": {
        "id": "XVv7yecNvaD2",
        "colab_type": "text"
      },
      "cell_type": "markdown",
      "source": [
        "### Hi, my name is `...Luke Cifarwalker...`, and here's my story\n",
        "\n",
        "A long ago in a galaxy far far away, when it was still more than an hour before deadline, i got an idea:\n",
        "\n",
        "##### I gonna build a neural network, that\n",
        "Нейронная сеть состоит из трех мега-слоев, которые состоят из convolution, batch-normalization, dropout, convolution, convolution, pooling, dropout. На выходе третьего мега-слоя мы получаем тензор размера (?, 8, 8, 10), для каждого канала считаем среднее, применяем softmax и получаем итоговые ответы принадлежности каждому классу. \n",
        "\n",
        "Прежде чем засунуть данные в сеть я отнормировал их, еще для лучшей обучаемости я добавил аугментацию. Для борьбы с переобучением я использую dropout и batch-normalization.\n",
        "\n"
      ]
    },
    {
      "metadata": {
        "id": "A2u5VlGavaD4",
        "colab_type": "code",
        "colab": {
          "autoexec": {
            "startup": false,
            "wait_interval": 0
          }
        }
      },
      "cell_type": "code",
      "source": [
        ""
      ],
      "execution_count": 0,
      "outputs": []
    }
  ]
}