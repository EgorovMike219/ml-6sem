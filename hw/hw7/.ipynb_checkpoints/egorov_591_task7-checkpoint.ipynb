{
 "cells": [
  {
   "cell_type": "markdown",
   "metadata": {
    "colab_type": "text",
    "deletable": true,
    "editable": true,
    "id": "rYP6lkVmvaDJ"
   },
   "source": [
    "<span style=\"font-size: 14pt\">MIPT, Advanced ML, Spring 2018</span>\n",
    "\n",
    "<span style=\"font-size: 16pt\"> HW #7: CNN models\n",
    "\n",
    "<span style=\"color:blue; font-size: 12pt\">Sergey Kolesnikov</span>,\n",
    "<span style=\"color:blue; font-size: 12pt; font-family: 'Verdana'\"> scitator@gmail.com</span>\n"
   ]
  },
  {
   "cell_type": "markdown",
   "metadata": {
    "colab_type": "text",
    "deletable": true,
    "editable": true,
    "id": "Z2H5tYinvaDL"
   },
   "source": [
    "<h1 align=\"center\">Organization Info</h1> \n",
    "\n",
    "* Дедлайн **24 апреля 2018 02:59** для всех групп.\n",
    "* В качестве решения задания нужно прислать ноутбук с подробными комментариями (<span style='color:red'> без присланного решения результат контеста не будет засчитан </span>).\n",
    "* <span style='color:red'>Название команды в контесте должно соответствовать шаблону: НомерГруппы_Имя_Фамилия, например, 594_Ivan_Ivanov</span>."
   ]
  },
  {
   "cell_type": "markdown",
   "metadata": {
    "colab_type": "text",
    "deletable": true,
    "editable": true,
    "id": "LGl1RKn1vaDM"
   },
   "source": [
    "**Оформление дз**: \n",
    "- Присылайте выполненное задание на почту ``ml.course.mipt@gmail.com``\n",
    "- Укажите тему письма в следующем формате ``ML2018_fall_<номер_группы>_<фамилия>``, к примеру -- ``ML2018_fall_495_ivanov``\n",
    "- Выполненное дз сохраните в файл ``<фамилия>_<группа>_task<номер>.ipnb, к примеру`` -- ``ivanov_401_task5.ipnb``\n",
    "\n",
    "**Вопросы**:\n",
    "- Присылайте вопросы на почту ``ml.course.mipt@gmail.com``\n",
    "- Укажите тему письма в следующем формате ``ML2018_fall Question <Содержание вопроса>``\n",
    "\n",
    "\n",
    "--------\n",
    "- **PS1:** Используются автоматические фильтры, и просто не найдем ваше дз, если вы неаккуратно его подпишите.\n",
    "- **PS2:**  Просроченный дедлайн снижает максимальный вес задания по формуле, указнной на первом семинаре\n",
    "- **PS3:** Допустимы исправление кода предложенного кода ниже, если вы считаете"
   ]
  },
  {
   "cell_type": "markdown",
   "metadata": {
    "colab_type": "text",
    "deletable": true,
    "editable": true,
    "id": "t8VSS60QvaDN"
   },
   "source": [
    "---"
   ]
  },
  {
   "cell_type": "markdown",
   "metadata": {
    "colab_type": "text",
    "deletable": true,
    "editable": true,
    "id": "_P-bJiRfvaDN"
   },
   "source": [
    "<h1 align=\"center\">Check Questions </h1> \n",
    "\n",
    "Ниже приводится список вопросов, с ответами на которые может быть полезно разобраться для понимания темы.\n",
    "\n",
    "**Вопрос 1**: Чем отличаются современные сверточные сети от сетей 5 летней давности?\n",
    "\n",
    "Современные сверточные сети содержат около 200 слоев, а 5 лет назад их количество не превышало 20.\n",
    "\n",
    "**Вопрос 2**: Какие неприятности могут возникнуть во время обучения современных нейросетей?\n",
    "\n",
    "Для получения хороших результатов, современные сети обучают на огромных датасетах, например ImageNet (распознование изображений). Из-за огромного размера, данные не помещаются в оперативную память (или графическую память), поэтому нужно иметь оборудование удовлетворяющее этим требваниям.\n",
    "\n",
    "\n",
    "**Вопрос 3**: У вас есть очень маленький датасет из 100 картинок, классификация, но вы очень хотите использовать нейросеть, какие неприятности вас ждут и как их решить? что делать если первый вариант  решения не заработает?\n",
    "\n",
    "Обычно в нейросети очень много параметров, которые нужно найти. И 100 картинок не смогут настроить эти параметры. Для решения проблемы нехватки данных можно применить аугментацию. Суть этого метода заключается в увеличении данных за счет изменения исходных данных, например поворот, инверсия, отражение картинки. А если этот способ не помог, то можно попробовать самому разметить данные или\n",
    " найти уже размеченную базу данных.\n",
    " \n",
    "**Вопрос 4**: Можно ли сделать стайл трансфер для музыки и как?\n",
    "\n",
    "Можно, с помощью сверточных нейронных сетей."
   ]
  },
  {
   "cell_type": "markdown",
   "metadata": {
    "colab_type": "text",
    "deletable": true,
    "editable": true,
    "id": "beNSQtg7vaDO"
   },
   "source": [
    "---"
   ]
  },
  {
   "cell_type": "markdown",
   "metadata": {
    "colab_type": "text",
    "deletable": true,
    "editable": true,
    "id": "Ri0aw4hRvaDP"
   },
   "source": [
    "<h1 align=\"center\">Theory Questions</h1> "
   ]
  },
  {
   "cell_type": "markdown",
   "metadata": {
    "colab_type": "text",
    "deletable": true,
    "editable": true,
    "id": "AkmugPUivaDP"
   },
   "source": [
    "---"
   ]
  },
  {
   "cell_type": "markdown",
   "metadata": {
    "colab_type": "text",
    "deletable": true,
    "editable": true,
    "id": "2Cp7OF6zvaDQ"
   },
   "source": [
    "### Useful notebooks\n",
    "#### Colab link (seminar): https://colab.research.google.com/drive/18xjvLspViCwTUXTBNiz_xKxlUblQuGPU\n",
    "#### Colab link (hw): https://colab.research.google.com/drive/1FlYpA-JHCZ1UilPScC2zWhZNCkE3Sv78"
   ]
  },
  {
   "cell_type": "markdown",
   "metadata": {
    "colab_type": "text",
    "deletable": true,
    "editable": true,
    "id": "cnbPkQk0vaDR"
   },
   "source": [
    "---"
   ]
  },
  {
   "cell_type": "markdown",
   "metadata": {
    "colab_type": "text",
    "deletable": true,
    "editable": true,
    "id": "ey4AVK21vaDS"
   },
   "source": [
    "# CIFAR Quest\n",
    "\n",
    "(please read it at least diagonally)\n",
    "\n",
    "* The ultimate quest is to create a network that has as high __accuracy__ as you can push it.\n",
    "* There is a __mini-report__ at the end that you will have to fill in. We recommend reading it first and filling it while you iterate.\n",
    " \n",
    "## Grading\n",
    "* starting at zero points\n",
    "* +2 for describing your iteration path in a report below.\n",
    "* +2 for correct check questions\n",
    "* +1 for beating each of these milestones on __TEST__ dataset:\n",
    "    * 60% (5 total)\n",
    "    * 65% (6 total)\n",
    "    * 70% (7 total)\n",
    "    * 75% (8 total)\n",
    "    * 80% (9 total)\n",
    "    * 82% (10 total)\n",
    "* +2 for really cool solution:\n",
    "    * 84% (12 total)\n",
    "    * 86% (14 total)\n",
    "    * 88% (16 total)\n",
    "    * 90% (18 total)\n",
    "    * 92% (20 total)\n",
    "    \n",
    "## Bonus points\n",
    "\n",
    "Common ways to get bonus points are:\n",
    "* Get higher score, obviously.\n",
    "* Anything special about your NN. For example \"A super-small/fast NN that gets 80%\" gets a bonus.\n",
    "* Any detailed analysis of the results. (saliency maps, whatever)\n",
    "\n",
    "## Restrictions\n",
    "* Please do __NOT__ use pre-trained networks for this assignment.\n",
    " * In other words, milestones must be beaten without pre-trained nets (and such net must be present in the e-mail).\n",
    "* you __can__ use validation data for training, but you __can't'__ do anything with test data apart from running the evaluation procedure."
   ]
  },
  {
   "cell_type": "markdown",
   "metadata": {
    "colab_type": "text",
    "deletable": true,
    "editable": true,
    "id": "-nLcJcYNvaDS"
   },
   "source": [
    "---"
   ]
  },
  {
   "cell_type": "code",
   "execution_count": 8,
   "metadata": {
    "colab": {
     "autoexec": {
      "startup": false,
      "wait_interval": 0
     },
     "base_uri": "https://localhost:8080/",
     "height": 221
    },
    "colab_type": "code",
    "collapsed": false,
    "deletable": true,
    "editable": true,
    "executionInfo": {
     "elapsed": 11305,
     "status": "ok",
     "timestamp": 1525336833577,
     "user": {
      "displayName": "Михаил Сергеевич Егоров",
      "photoUrl": "https://lh3.googleusercontent.com/a/default-user=s128",
      "userId": "110484987820042064694"
     },
     "user_tz": -180
    },
    "id": "NWw2dDvZvaDT",
    "outputId": "7114eaad-2a4c-40f4-a642-dca282da7f00"
   },
   "outputs": [
    {
     "name": "stdout",
     "output_type": "stream",
     "text": [
      "  % Total    % Received % Xferd  Average Speed   Time    Time     Time  Current\n",
      "                                 Dload  Upload   Total   Spent    Left  Speed\n",
      "100  162M  100  162M    0     0  40.6M      0  0:00:04  0:00:04 --:--:-- 36.9M\n",
      "cifar-10-batches-py/\n",
      "cifar-10-batches-py/data_batch_4\n",
      "cifar-10-batches-py/readme.html\n",
      "cifar-10-batches-py/test_batch\n",
      "cifar-10-batches-py/data_batch_3\n",
      "cifar-10-batches-py/batches.meta\n",
      "cifar-10-batches-py/data_batch_2\n",
      "cifar-10-batches-py/data_batch_5\n",
      "cifar-10-batches-py/data_batch_1\n"
     ]
    }
   ],
   "source": [
    "# Load data. It may work slow.\n",
    "!mkdir cifar10\n",
    "!curl -o cifar-10-python.tar.gz https://www.cs.toronto.edu/~kriz/cifar-10-python.tar.gz\n",
    "!tar -xvzf cifar-10-python.tar.gz -C cifar10"
   ]
  },
  {
   "cell_type": "code",
   "execution_count": 0,
   "metadata": {
    "cellView": "code",
    "colab": {
     "autoexec": {
      "startup": false,
      "wait_interval": 0
     }
    },
    "colab_type": "code",
    "collapsed": true,
    "deletable": true,
    "editable": true,
    "id": "WdTtnwZovaDX"
   },
   "outputs": [],
   "source": [
    "#@title Default title text\n",
    "import _pickle as pickle\n",
    "import os\n",
    "import time\n",
    "import numpy as np\n",
    "import tensorflow as tf\n",
    "from IPython import display\n",
    "import matplotlib.pyplot as plt\n",
    "import seaborn\n",
    "%matplotlib inline"
   ]
  },
  {
   "cell_type": "code",
   "execution_count": 0,
   "metadata": {
    "colab": {
     "autoexec": {
      "startup": false,
      "wait_interval": 0
     }
    },
    "colab_type": "code",
    "collapsed": true,
    "deletable": true,
    "editable": true,
    "id": "MK2_zPkvGp2R"
   },
   "outputs": [],
   "source": [
    "tf.logging.set_verbosity(tf.logging.ERROR)"
   ]
  },
  {
   "cell_type": "code",
   "execution_count": 3,
   "metadata": {
    "colab": {
     "autoexec": {
      "startup": false,
      "wait_interval": 0
     },
     "base_uri": "https://localhost:8080/",
     "height": 34
    },
    "colab_type": "code",
    "collapsed": false,
    "deletable": true,
    "editable": true,
    "executionInfo": {
     "elapsed": 624,
     "status": "ok",
     "timestamp": 1525336809874,
     "user": {
      "displayName": "Михаил Сергеевич Егоров",
      "photoUrl": "https://lh3.googleusercontent.com/a/default-user=s128",
      "userId": "110484987820042064694"
     },
     "user_tz": -180
    },
    "id": "Tus1SiIowvet",
    "outputId": "93fc5c38-eb6f-405c-d948-39ddc1907fd5"
   },
   "outputs": [
    {
     "data": {
      "text/plain": [
       "'1.7.0'"
      ]
     },
     "execution_count": 3,
     "metadata": {
      "tags": []
     },
     "output_type": "execute_result"
    }
   ],
   "source": [
    "tf.__version__"
   ]
  },
  {
   "cell_type": "code",
   "execution_count": 4,
   "metadata": {
    "colab": {
     "autoexec": {
      "startup": false,
      "wait_interval": 0
     },
     "base_uri": "https://localhost:8080/",
     "height": 34
    },
    "colab_type": "code",
    "collapsed": false,
    "deletable": true,
    "editable": true,
    "executionInfo": {
     "elapsed": 1401,
     "status": "ok",
     "timestamp": 1525336811814,
     "user": {
      "displayName": "Михаил Сергеевич Егоров",
      "photoUrl": "https://lh3.googleusercontent.com/a/default-user=s128",
      "userId": "110484987820042064694"
     },
     "user_tz": -180
    },
    "id": "v7V8Utbzwvrh",
    "outputId": "2a683b94-8749-4e3b-ebf2-98495510c3bc"
   },
   "outputs": [
    {
     "data": {
      "text/plain": [
       "True"
      ]
     },
     "execution_count": 4,
     "metadata": {
      "tags": []
     },
     "output_type": "execute_result"
    }
   ],
   "source": [
    "tf.test.is_gpu_available()"
   ]
  },
  {
   "cell_type": "code",
   "execution_count": 0,
   "metadata": {
    "colab": {
     "autoexec": {
      "startup": false,
      "wait_interval": 0
     }
    },
    "colab_type": "code",
    "collapsed": true,
    "deletable": true,
    "editable": true,
    "id": "hyThnDe_vaDZ"
   },
   "outputs": [],
   "source": [
    "import math\n",
    "\n",
    "def load_CIFAR_batch(filename):\n",
    "    \"\"\" load single batch of cifar \"\"\"\n",
    "    with open(filename, 'rb') as f:\n",
    "        datadict = pickle.load(f, encoding='iso-8859-1')\n",
    "        X = datadict['data']\n",
    "        Y = datadict['labels']\n",
    "        X = X.reshape(10000, 3, 32, 32).astype(\"float\")\n",
    "        Y = np.array(Y)\n",
    "        return X, Y\n",
    "\n",
    "def load_CIFAR10(ROOT):\n",
    "    \"\"\" load all of cifar \"\"\"\n",
    "    xs = []\n",
    "    ys = []\n",
    "    for b in range(1,6):\n",
    "        f = os.path.join(ROOT, 'data_batch_%d' % (b, ))\n",
    "        X, Y = load_CIFAR_batch(f)\n",
    "        xs.append(X)\n",
    "        ys.append(Y)    \n",
    "    Xtr = np.concatenate(xs)\n",
    "    Ytr = np.concatenate(ys)\n",
    "    del X, Y\n",
    "    Xte, Yte = load_CIFAR_batch(os.path.join(ROOT, 'test_batch'))\n",
    "    return Xtr, Ytr, Xte, Yte"
   ]
  },
  {
   "cell_type": "code",
   "execution_count": 0,
   "metadata": {
    "colab": {
     "autoexec": {
      "startup": false,
      "wait_interval": 0
     }
    },
    "colab_type": "code",
    "collapsed": true,
    "deletable": true,
    "editable": true,
    "id": "cKc9QoeeUCJL"
   },
   "outputs": [],
   "source": [
    "def augment(images, labels,\n",
    "            resize=None, # (width, height) tuple or None\n",
    "            horizontal_flip=False,\n",
    "            vertical_flip=False,\n",
    "            rotate=0, # Maximum rotation angle in degrees\n",
    "            crop_probability=0, # How often we do crops\n",
    "            crop_min_percent=0.6, # Minimum linear dimension of a crop\n",
    "            crop_max_percent=1.,  # Maximum linear dimension of a crop\n",
    "            mixup=0):  # Mixup coeffecient, see https://arxiv.org/abs/1710.09412.pdf\n",
    "  if resize is not None:\n",
    "    images = tf.image.resize_bilinear(images, resize)\n",
    "  \n",
    "  # My experiments showed that casting on GPU improves training performance\n",
    "  if images.dtype != tf.float32:\n",
    "    images = tf.image.convert_image_dtype(images, dtype=tf.float32)\n",
    "    images = tf.subtract(images, 0.5)\n",
    "    images = tf.multiply(images, 2.0)\n",
    "  labels = tf.to_float(labels)\n",
    "\n",
    "  with tf.name_scope('augmentation'):\n",
    "    shp = tf.shape(images)\n",
    "    batch_size, height, width = shp[0], shp[1], shp[2]\n",
    "    width = tf.cast(width, tf.float32)\n",
    "    height = tf.cast(height, tf.float32)\n",
    "\n",
    "    # The list of affine transformations that our image will go under.\n",
    "    # Every element is Nx8 tensor, where N is a batch size.\n",
    "    transforms = []\n",
    "    identity = tf.constant([1, 0, 0, 0, 1, 0, 0, 0], dtype=tf.float32)\n",
    "    if horizontal_flip:\n",
    "      coin = tf.less(tf.random_uniform([batch_size], 0, 1.0), 0.5)\n",
    "      flip_transform = tf.convert_to_tensor(\n",
    "          [-1., 0., width, 0., 1., 0., 0., 0.], dtype=tf.float32)\n",
    "      transforms.append(\n",
    "          tf.where(coin,\n",
    "                   tf.tile(tf.expand_dims(flip_transform, 0), [batch_size, 1]),\n",
    "                   tf.tile(tf.expand_dims(identity, 0), [batch_size, 1])))\n",
    "\n",
    "    if vertical_flip:\n",
    "      coin = tf.less(tf.random_uniform([batch_size], 0, 1.0), 0.5)\n",
    "      flip_transform = tf.convert_to_tensor(\n",
    "          [1, 0, 0, 0, -1, height, 0, 0], dtype=tf.float32)\n",
    "      transforms.append(\n",
    "          tf.where(coin,\n",
    "                   tf.tile(tf.expand_dims(flip_transform, 0), [batch_size, 1]),\n",
    "                   tf.tile(tf.expand_dims(identity, 0), [batch_size, 1])))\n",
    "\n",
    "    if rotate > 0:\n",
    "      angle_rad = rotate / 180 * math.pi\n",
    "      angles = tf.random_uniform([batch_size], -angle_rad, angle_rad)\n",
    "      transforms.append(\n",
    "          tf.contrib.image.angles_to_projective_transforms(\n",
    "              angles, height, width))\n",
    "\n",
    "    if crop_probability > 0:\n",
    "      crop_pct = tf.random_uniform([batch_size], crop_min_percent,\n",
    "                                   crop_max_percent)\n",
    "      left = tf.random_uniform([batch_size], 0, width * (1 - crop_pct))\n",
    "      top = tf.random_uniform([batch_size], 0, height * (1 - crop_pct))\n",
    "      crop_transform = tf.stack([\n",
    "          crop_pct,\n",
    "          tf.zeros([batch_size]), top,\n",
    "          tf.zeros([batch_size]), crop_pct, left,\n",
    "          tf.zeros([batch_size]),\n",
    "          tf.zeros([batch_size])\n",
    "      ], 1)\n",
    "\n",
    "      coin = tf.less(\n",
    "          tf.random_uniform([batch_size], 0, 1.0), crop_probability)\n",
    "      transforms.append(\n",
    "          tf.where(coin, crop_transform,\n",
    "                   tf.tile(tf.expand_dims(identity, 0), [batch_size, 1])))\n",
    "\n",
    "    if transforms:\n",
    "      images = tf.contrib.image.transform(\n",
    "          images,\n",
    "          tf.contrib.image.compose_transforms(*transforms),\n",
    "          interpolation='BILINEAR') # or 'NEAREST'\n",
    "\n",
    "    def cshift(values): # Circular shift in batch dimension\n",
    "      return tf.concat([values[-1:, ...], values[:-1, ...]], 0)\n",
    "\n",
    "    if mixup > 0:\n",
    "      beta = tf.distributions.Beta(mixup, mixup)\n",
    "      lam = beta.sample(batch_size)\n",
    "      ll = tf.expand_dims(tf.expand_dims(tf.expand_dims(lam, -1), -1), -1)\n",
    "      images = ll * images + (1 - ll) * cshift(images)\n",
    "      labels = lam * labels + (1 - lam) * cshift(labels)\n",
    "  labels = tf.cast(labels, tf.int32)\n",
    "  return images, labels"
   ]
  },
  {
   "cell_type": "code",
   "execution_count": 0,
   "metadata": {
    "colab": {
     "autoexec": {
      "startup": false,
      "wait_interval": 0
     }
    },
    "colab_type": "code",
    "collapsed": true,
    "deletable": true,
    "editable": true,
    "id": "8SxmIe6ovaDc"
   },
   "outputs": [],
   "source": [
    "plt.rcParams['figure.figsize'] = (10.0, 8.0) \n",
    "\n",
    "cifar10_dir = './cifar10/cifar-10-batches-py'\n",
    "X_train, y_train, X_test, y_test = load_CIFAR10(cifar10_dir)\n",
    "X_train = np.array(X_train, dtype='float32')\n",
    "X_train = (X_train - 128) / 255.0\n",
    "X_test = np.array(X_test, dtype='float32')\n",
    "X_test = (X_test - 128) / 255.0"
   ]
  },
  {
   "cell_type": "code",
   "execution_count": 10,
   "metadata": {
    "colab": {
     "autoexec": {
      "startup": false,
      "wait_interval": 0
     },
     "base_uri": "https://localhost:8080/",
     "height": 34
    },
    "colab_type": "code",
    "collapsed": false,
    "deletable": true,
    "editable": true,
    "executionInfo": {
     "elapsed": 698,
     "status": "ok",
     "timestamp": 1525337062276,
     "user": {
      "displayName": "Михаил Сергеевич Егоров",
      "photoUrl": "https://lh3.googleusercontent.com/a/default-user=s128",
      "userId": "110484987820042064694"
     },
     "user_tz": -180
    },
    "id": "rEOUXo2jCdz4",
    "outputId": "806c9385-1d8f-40c7-9a2f-ce31c7a57939"
   },
   "outputs": [
    {
     "name": "stdout",
     "output_type": "stream",
     "text": [
      "(50000, 3, 32, 32) (50000,) (10000, 3, 32, 32)\n"
     ]
    }
   ],
   "source": [
    "print(X_train.shape, y_train.shape, X_test.shape)"
   ]
  },
  {
   "cell_type": "code",
   "execution_count": 11,
   "metadata": {
    "colab": {
     "autoexec": {
      "startup": false,
      "wait_interval": 0
     },
     "base_uri": "https://localhost:8080/",
     "height": 492
    },
    "colab_type": "code",
    "collapsed": false,
    "deletable": true,
    "editable": true,
    "executionInfo": {
     "elapsed": 4382,
     "status": "ok",
     "timestamp": 1525337068187,
     "user": {
      "displayName": "Михаил Сергеевич Егоров",
      "photoUrl": "https://lh3.googleusercontent.com/a/default-user=s128",
      "userId": "110484987820042064694"
     },
     "user_tz": -180
    },
    "id": "DuX4B9xuvaDf",
    "outputId": "5aac40b5-4432-4615-cb28-d16d96af54c4"
   },
   "outputs": [
    {
     "data": {
      "image/png": "[encoded data removed]",
      "text/plain": [
       "<matplotlib.figure.Figure at 0x7f915a8e0898>"
      ]
     },
     "metadata": {
      "tags": []
     },
     "output_type": "display_data"
    }
   ],
   "source": [
    "classes = ['plane', 'car', 'bird', 'cat', 'deer', 'dog', 'frog', 'horse', 'ship', 'truck']\n",
    "num_classes = len(classes)\n",
    "samples_per_class = 7\n",
    "for y, cls in enumerate(classes):\n",
    "    idxs = np.flatnonzero(y_train == y)\n",
    "    idxs = np.random.choice(idxs, samples_per_class, replace=False)\n",
    "    for i, idx in enumerate(idxs):\n",
    "        plt_idx = i * num_classes + y + 1\n",
    "        plt.subplot(samples_per_class, num_classes, plt_idx)\n",
    "        plt.imshow(X_train[idx].astype('uint8').transpose(1, 2, 0))\n",
    "        plt.axis('off')\n",
    "        if i == 0:\n",
    "            plt.title(cls)\n",
    "plt.show()"
   ]
  },
  {
   "cell_type": "code",
   "execution_count": 0,
   "metadata": {
    "colab": {
     "autoexec": {
      "startup": false,
      "wait_interval": 0
     }
    },
    "colab_type": "code",
    "collapsed": true,
    "deletable": true,
    "editable": true,
    "id": "h2EwE1rUawa4"
   },
   "outputs": [],
   "source": [
    "# config\n",
    "epochs = 250                   # how many epochs\n",
    "batch_size = 128\n",
    "steps_per_epoch = X_train.shape[0] / batch_size"
   ]
  },
  {
   "cell_type": "code",
   "execution_count": 0,
   "metadata": {
    "colab": {
     "autoexec": {
      "startup": false,
      "wait_interval": 0
     }
    },
    "colab_type": "code",
    "collapsed": true,
    "deletable": true,
    "editable": true,
    "id": "JZ-zWYnIRphx"
   },
   "outputs": [],
   "source": [
    "# Write your convolutional NN with Tensorflow (example in seminar).\n",
    "# For example 3 convolutions and poolings and dense layer after that.\n",
    "\n",
    "## MODEL 7.13.4.6.7f\n",
    "# Create new graph\n",
    "graph = tf.Graph()\n",
    "# whether to retrain model from scratch or use saved model\n",
    "init = True\n",
    "model_name = \"model_7.13.4.7.7l_7\"\n",
    "\n",
    "\n",
    "\n",
    "with graph.as_default():\n",
    "    # Placeholders\n",
    "    X = tf.placeholder(dtype=tf.float32, shape=[None, 32, 32, 3])\n",
    "    y = tf.placeholder(dtype=tf.int32, shape=[None])\n",
    "    training = tf.placeholder(dtype=tf.bool)\n",
    "    \n",
    "    X, y = tf.cond(tf.equal(training, tf.constant(True)), \n",
    "                   lambda: augment(X, y,\n",
    "                         horizontal_flip=True, rotate=15, crop_probability=0.8, mixup=4.0),\n",
    "                   lambda: (X, y))\n",
    "    \n",
    "    # create global step for decaying learning rate\n",
    "    global_step = tf.Variable(0, trainable=False)\n",
    "\n",
    "    # lambda 6\n",
    "    lamC = 0.000050\n",
    "    lamF = 0.0025000\n",
    "           \n",
    "    # learning rate j\n",
    "    epochs_per_decay = 10\n",
    "    starting_rate = 0.003\n",
    "    decay_factor = 0.9\n",
    "    staircase = True\n",
    "    \n",
    "    learning_rate = tf.train.exponential_decay(starting_rate,                 # start at 0.003\n",
    "                                               global_step, \n",
    "                                               steps_per_epoch * epochs_per_decay,       # 100 epochs\n",
    "                                               decay_factor,                   # 0.5 decrease\n",
    "                                               staircase=staircase) \n",
    "    \n",
    "    # Small epsilon value for the BN transform\n",
    "    epsilon = 1e-3\n",
    "    \n",
    "    with tf.name_scope('conv1') as scope:\n",
    "        # Convolutional layer 1 \n",
    "        conv1 = tf.layers.conv2d(\n",
    "            X,                           # Input data\n",
    "            filters=64,                  # 64 filters\n",
    "            kernel_size=(5, 5),          # Kernel size: 5x5\n",
    "            strides=(1, 1),              # Stride: 1\n",
    "            padding='SAME',              # \"same\" padding\n",
    "            activation=None,             # None\n",
    "            kernel_initializer=tf.truncated_normal_initializer(stddev=5e-2, seed=10),\n",
    "            kernel_regularizer=tf.contrib.layers.l2_regularizer(scale=lamC),\n",
    "            name='conv1'                 \n",
    "        )\n",
    "\n",
    "        # try batch normalization\n",
    "        bn1 = tf.layers.batch_normalization(\n",
    "            conv1,\n",
    "            axis=-1,\n",
    "            momentum=0.99,\n",
    "            epsilon=epsilon,\n",
    "            center=True,\n",
    "            scale=True,\n",
    "            beta_initializer=tf.zeros_initializer(),\n",
    "            gamma_initializer=tf.ones_initializer(),\n",
    "            moving_mean_initializer=tf.zeros_initializer(),\n",
    "            moving_variance_initializer=tf.ones_initializer(),\n",
    "            training=training,\n",
    "            name='bn1'\n",
    "        )\n",
    "\n",
    "        #apply relu\n",
    "        conv1_bn_relu = tf.nn.relu(bn1, name='relu1')\n",
    "\n",
    "        conv1_bn_relu = tf.layers.dropout(conv1_bn_relu, rate=0.2, seed=9, training=training)\n",
    "    \n",
    "    with tf.name_scope('conv2') as scope:\n",
    "        # Convolutional layer 2\n",
    "        conv2 = tf.layers.conv2d(\n",
    "            conv1_bn_relu,                           # Input data\n",
    "            filters=64,                  # 64 filters\n",
    "            kernel_size=(5, 5),          # Kernel size: 5x5\n",
    "            strides=(1, 1),              # Stride: 1\n",
    "            padding='SAME',              # \"same\" padding\n",
    "            activation=None,             # None\n",
    "            kernel_initializer=tf.truncated_normal_initializer(stddev=5e-2, seed=8),\n",
    "            kernel_regularizer=tf.contrib.layers.l2_regularizer(scale=lamC),\n",
    "            name='conv2'                  # Add name\n",
    "        )\n",
    "\n",
    "        # try batch normalization\n",
    "        bn2 = tf.layers.batch_normalization(\n",
    "            conv2,\n",
    "            axis=-1,\n",
    "            momentum=0.9,\n",
    "            epsilon=epsilon,\n",
    "            center=True,\n",
    "            scale=True,\n",
    "            beta_initializer=tf.zeros_initializer(),\n",
    "            gamma_initializer=tf.ones_initializer(),\n",
    "            moving_mean_initializer=tf.zeros_initializer(),\n",
    "            moving_variance_initializer=tf.ones_initializer(),\n",
    "            training=training,\n",
    "            name='bn2'\n",
    "        )\n",
    "\n",
    "        #apply relu\n",
    "        conv2_bn_relu = tf.nn.relu(bn2, name='relu2')\n",
    "    \n",
    "    with tf.name_scope('pool1') as scope:\n",
    "         # Max pooling layer 1\n",
    "        pool1 = tf.layers.max_pooling2d(\n",
    "            conv2_bn_relu,                       # Input\n",
    "            pool_size=(2, 2),            # Pool size: 3x3\n",
    "            strides=(2, 2),              # Stride: 2\n",
    "            padding='SAME',              # \"same\" padding\n",
    "            name='pool1'\n",
    "        )\n",
    "\n",
    "        # dropout at 10%\n",
    "        pool1 = tf.layers.dropout(pool1, rate=0.2, seed=1, training=training)\n",
    "\n",
    "    with tf.name_scope('conv3') as scope:\n",
    "        # Convolutional layer 3\n",
    "        conv3= tf.layers.conv2d(\n",
    "            pool1,                       # Input\n",
    "            filters=96,                  # 96 filters\n",
    "            kernel_size=(4, 4),          # Kernel size: 4x4\n",
    "            strides=(1, 1),              # Stride: 1\n",
    "            padding='SAME',              # \"same\" padding\n",
    "            activation=None,             # None\n",
    "            kernel_initializer=tf.truncated_normal_initializer(stddev=5e-2, seed=7),\n",
    "            kernel_regularizer=tf.contrib.layers.l2_regularizer(scale=lamC),\n",
    "            name='conv3'                 \n",
    "        )\n",
    "\n",
    "        bn3 = tf.layers.batch_normalization(\n",
    "            conv3,\n",
    "            axis=-1,\n",
    "            momentum=0.9,\n",
    "            epsilon=epsilon,\n",
    "            center=True,\n",
    "            scale=True,\n",
    "            beta_initializer=tf.zeros_initializer(),\n",
    "            gamma_initializer=tf.ones_initializer(),\n",
    "            moving_mean_initializer=tf.zeros_initializer(),\n",
    "            moving_variance_initializer=tf.ones_initializer(),\n",
    "            training=training,\n",
    "            name='bn3'\n",
    "        )\n",
    "\n",
    "        #apply relu\n",
    "        conv3_bn_relu = tf.nn.relu(bn3, name='relu3')\n",
    "        \n",
    "        # dropout at 10%\n",
    "        conv3_bn_relu = tf.layers.dropout(conv3_bn_relu, rate=0.2, seed=0, training=training)\n",
    "\n",
    "    with tf.name_scope('conv4') as scope:\n",
    "        # Convolutional layer 4\n",
    "        conv4= tf.layers.conv2d(\n",
    "            conv3_bn_relu,                       # Input\n",
    "            filters=96,                  # 96 filters\n",
    "            kernel_size=(4, 4),          # Kernel size: 4x4\n",
    "            strides=(1, 1),              # Stride: 1\n",
    "            padding='SAME',              # \"same\" padding\n",
    "            activation=None,       \n",
    "            kernel_initializer=tf.truncated_normal_initializer(stddev=5e-2, seed=1), \n",
    "            kernel_regularizer=tf.contrib.layers.l2_regularizer(scale=lamC),\n",
    "            name='conv4'                 \n",
    "        )\n",
    "\n",
    "        bn4 = tf.layers.batch_normalization(\n",
    "            conv4,\n",
    "            axis=-1,\n",
    "            momentum=0.9,\n",
    "            epsilon=epsilon,\n",
    "            center=True,\n",
    "            scale=True,\n",
    "            beta_initializer=tf.zeros_initializer(),\n",
    "            gamma_initializer=tf.ones_initializer(),\n",
    "            moving_mean_initializer=tf.zeros_initializer(),\n",
    "            moving_variance_initializer=tf.ones_initializer(),\n",
    "            training=training,\n",
    "            name='bn4'\n",
    "        )\n",
    "\n",
    "        #apply relu\n",
    "        conv4_bn_relu = tf.nn.relu(bn4, name='relu4')\n",
    "    \n",
    "    # Max pooling layer 2 \n",
    "    pool2 = tf.layers.max_pooling2d(\n",
    "        conv4_bn_relu,                       # input\n",
    "        pool_size=(2, 2),            # pool size 2x2\n",
    "        strides=(2, 2),              # stride 2\n",
    "        padding='SAME',\n",
    "        name='pool2'\n",
    "    )\n",
    "\n",
    "    with tf.name_scope('conv5') as scope:\n",
    "        # Convolutional layer 5\n",
    "        conv5= tf.layers.conv2d(\n",
    "            pool2,                       # Input\n",
    "            filters=128,                 # 128 filters\n",
    "            kernel_size=(3, 3),          # Kernel size: 3x3\n",
    "            strides=(1, 1),              # Stride: 1\n",
    "            padding='SAME',              # \"same\" padding\n",
    "            activation=None,       \n",
    "            kernel_initializer=tf.truncated_normal_initializer(stddev=5e-2, seed=2),\n",
    "            kernel_regularizer=tf.contrib.layers.l2_regularizer(scale=lamC),\n",
    "            name='conv5'                 \n",
    "        )\n",
    "        \n",
    "        \n",
    "        bn5 = tf.layers.batch_normalization(\n",
    "            conv5,\n",
    "            axis=-1,\n",
    "            momentum=0.9,\n",
    "            epsilon=epsilon,\n",
    "            center=True,\n",
    "            scale=True,\n",
    "            beta_initializer=tf.zeros_initializer(),\n",
    "            gamma_initializer=tf.ones_initializer(),\n",
    "            moving_mean_initializer=tf.zeros_initializer(),\n",
    "            moving_variance_initializer=tf.ones_initializer(),\n",
    "            training=training,\n",
    "            name='bn5'\n",
    "        )\n",
    "        \n",
    "        # activation\n",
    "        conv5_bn_relu = tf.nn.relu(bn5, name='relu5')\n",
    "\n",
    "        # try dropout here\n",
    "        conv5_bn_relu = tf.layers.dropout(conv5_bn_relu, rate=0.2, seed=3, training=training)    \n",
    "\n",
    "    with tf.name_scope('conv6') as scope:\n",
    "        # Convolutional layer 6\n",
    "        conv6= tf.layers.conv2d(\n",
    "            conv5_bn_relu,               # Input\n",
    "            filters=128,                 # 128 filters\n",
    "            kernel_size=(3, 3),          # Kernel size: 3x3\n",
    "            strides=(1, 1),              # Stride: 1\n",
    "            padding='SAME',              # \"same\" padding\n",
    "            activation=None,             # None\n",
    "            kernel_initializer=tf.truncated_normal_initializer(stddev=5e-2, seed=3), \n",
    "            kernel_regularizer=tf.contrib.layers.l2_regularizer(scale=lamC),\n",
    "            name='conv6'                \n",
    "        )\n",
    "\n",
    "        bn6 = tf.layers.batch_normalization(\n",
    "            conv6,\n",
    "            axis=-1,\n",
    "            momentum=0.9,\n",
    "            epsilon=epsilon,\n",
    "            center=True,\n",
    "            scale=True,\n",
    "            beta_initializer=tf.zeros_initializer(),\n",
    "            gamma_initializer=tf.ones_initializer(),\n",
    "            moving_mean_initializer=tf.zeros_initializer(),\n",
    "            moving_variance_initializer=tf.ones_initializer(),\n",
    "            training=training,\n",
    "            name='bn6'\n",
    "        )\n",
    "\n",
    "        #apply relu\n",
    "        conv6_bn_relu = tf.nn.relu(bn6, name='relu6')\n",
    "    \n",
    "    # Max pooling layer 3\n",
    "    pool3 = tf.layers.max_pooling2d(\n",
    "        conv6_bn_relu,               # input\n",
    "        pool_size=(2, 2),            # pool size 2x2\n",
    "        strides=(2, 2),              # stride 2\n",
    "        padding='SAME',\n",
    "        name='pool3'\n",
    "    )\n",
    "    \n",
    "    with tf.name_scope('flatten') as scope:\n",
    "        # Flatten output\n",
    "        flat_output = tf.contrib.layers.flatten(pool3)\n",
    "\n",
    "        # dropout at 10%\n",
    "        flat_output = tf.layers.dropout(flat_output, rate=0.2, seed=5, training=training)\n",
    "    \n",
    "    # Fully connected layer 1\n",
    "    with tf.name_scope('fc1') as scope:\n",
    "        fc1 = tf.layers.dense(\n",
    "            flat_output,                 # input\n",
    "            1024,                        # 1024 hidden units\n",
    "            activation=None,             # None\n",
    "            kernel_initializer=tf.variance_scaling_initializer(scale=2, seed=4),\n",
    "            bias_initializer=tf.zeros_initializer(),\n",
    "            kernel_regularizer=tf.contrib.layers.l2_regularizer(scale=lamF),\n",
    "            name=\"fc1\"\n",
    "        )\n",
    "        \n",
    "        bn7 = tf.layers.batch_normalization(\n",
    "            fc1,\n",
    "            axis=-1,\n",
    "            momentum=0.9,\n",
    "            epsilon=epsilon,\n",
    "            center=True,\n",
    "            scale=True,\n",
    "            beta_initializer=tf.zeros_initializer(),\n",
    "            gamma_initializer=tf.ones_initializer(),\n",
    "            moving_mean_initializer=tf.zeros_initializer(),\n",
    "            moving_variance_initializer=tf.ones_initializer(),\n",
    "            training=training,\n",
    "            name='bn7'\n",
    "        )\n",
    "        \n",
    "        fc1_relu = tf.nn.relu(bn7, name='fc1_relu')\n",
    "        \n",
    "        # dropout at 25%\n",
    "        fc1_do = tf.layers.dropout(fc1_relu, rate=0.25, seed=10, training=training)\n",
    "    \n",
    "    # Fully connected layer 2\n",
    "    with tf.name_scope('fc2') as scope:\n",
    "        fc2 = tf.layers.dense(\n",
    "            fc1_do,                        # input\n",
    "            512,                        # 512 hidden units\n",
    "            activation=None,            # None\n",
    "            kernel_initializer=tf.variance_scaling_initializer(scale=2, seed=5),\n",
    "            bias_initializer=tf.zeros_initializer(),\n",
    "            kernel_regularizer=tf.contrib.layers.l2_regularizer(scale=lamF),\n",
    "            name=\"fc2\"\n",
    "        )\n",
    "        \n",
    "        bn8 = tf.layers.batch_normalization(\n",
    "            fc2,\n",
    "            axis=-1,\n",
    "            momentum=0.9,\n",
    "            epsilon=epsilon,\n",
    "            center=True,\n",
    "            scale=True,\n",
    "            beta_initializer=tf.zeros_initializer(),\n",
    "            gamma_initializer=tf.ones_initializer(),\n",
    "            moving_mean_initializer=tf.zeros_initializer(),\n",
    "            moving_variance_initializer=tf.ones_initializer(),\n",
    "            training=training,\n",
    "            name='bn8'\n",
    "        )\n",
    "        \n",
    "        fc2_relu = tf.nn.relu(bn8, name='fc2_relu')\n",
    "        \n",
    "        # dropout at 10%\n",
    "        fc2_do = tf.layers.dropout(fc2_relu, rate=0.25, seed=11, training=training)\n",
    "    \n",
    "    # Output layer\n",
    "    logits = tf.layers.dense(\n",
    "        fc2_do,                         # input\n",
    "        num_classes,                           # One output unit per category\n",
    "        activation=None,             # No activation function\n",
    "        kernel_initializer=tf.variance_scaling_initializer(scale=1, seed=6),\n",
    "        bias_initializer=tf.zeros_initializer(),\n",
    "        name=\"logits\"\n",
    "    )\n",
    "    \n",
    "    # Kernel weights of the 1st conv. layer\n",
    "    with tf.variable_scope('conv1', reuse=True):\n",
    "        conv_kernels1 = tf.get_variable('kernel')\n",
    "    \n",
    "    # Mean cross-entropy\n",
    "    mean_ce = tf.reduce_mean(tf.nn.sparse_softmax_cross_entropy_with_logits(labels=y, logits=logits))\n",
    "    loss = mean_ce + tf.losses.get_regularization_loss()\n",
    "    \n",
    "    # Adam optimizer\n",
    "    optimizer = tf.train.AdamOptimizer(learning_rate=learning_rate)\n",
    "    \n",
    "    # Minimize cross-entropy\n",
    "    train_op = optimizer.minimize(loss, global_step=global_step)\n",
    "\n",
    "    # Compute predictions and accuracy\n",
    "    predictions = tf.argmax(logits, axis=1, output_type=tf.int32)\n",
    "    is_correct = tf.equal(y, predictions)\n",
    "    accuracy = tf.reduce_mean(tf.cast(is_correct, dtype=tf.float32))\n",
    "    \n",
    "    # add this so that the batch norm gets run\n",
    "    extra_update_ops = tf.get_collection(tf.GraphKeys.UPDATE_OPS)\n",
    "    \n",
    "    # Create summary hooks\n",
    "    tf.summary.scalar('accuracy', accuracy)\n",
    "    tf.summary.scalar('cross_entropy', mean_ce)\n",
    "    tf.summary.scalar('learning_rate', learning_rate)\n",
    "    \n",
    "    # Merge all the summaries and write them out to /tmp/mnist_logs (by default)\n",
    "    merged = tf.summary.merge_all()\n"
   ]
  },
  {
   "cell_type": "code",
   "execution_count": 0,
   "metadata": {
    "colab": {
     "autoexec": {
      "startup": false,
      "wait_interval": 0
     }
    },
    "colab_type": "code",
    "collapsed": true,
    "deletable": true,
    "editable": true,
    "id": "7T-NnW1Vkti1"
   },
   "outputs": [],
   "source": [
    "def train_fn(X_tr, y_tr, sess):\n",
    "    '''\n",
    "    returns tuple (loss, accuracy) for model train phase\n",
    "    '''\n",
    "    # Run training and evaluate accuracy\n",
    "    X_tr = X_tr.reshape((batch_size, 32, 32, 3))\n",
    "    _, _, summary, acc_value, cost_value, loss_value, step, lr = sess.run([train_op, extra_update_ops, merged, accuracy, mean_ce, loss, global_step, learning_rate], feed_dict={\n",
    "                    X: X_tr,\n",
    "                    y: y_tr,\n",
    "                    training: True\n",
    "                })\n",
    "    return (loss_value, acc_value)\n",
    "\n",
    "def eval_fn(X_ev, y_ev, sess):\n",
    "    '''\n",
    "    returns tuple (loss, accuracy) for model evaluation phase\n",
    "    '''\n",
    "    X_ev = X_ev.reshape((batch_size, 32, 32, 3))\n",
    "    summary, valid_acc, valid_cost, valid_loss = sess.run([merged, accuracy, mean_ce, loss], feed_dict={\n",
    "                X: X_ev,\n",
    "                y: y_ev,\n",
    "                training: False\n",
    "            })\n",
    "    return (valid_loss, valid_acc)\n",
    "\n",
    "def predict_fn(X_pr, sess):\n",
    "    '''\n",
    "    returns y_pred for model predict phase\n",
    "    '''\n",
    "    X_pr = X_pr.reshape((batch_size, 32, 32, 3))\n",
    "    predict = sess.run([predictions], feed_dict={\n",
    "                X: X_pr,\n",
    "                training: False\n",
    "            })\n",
    "    return predict"
   ]
  },
  {
   "cell_type": "code",
   "execution_count": 0,
   "metadata": {
    "colab": {
     "autoexec": {
      "startup": false,
      "wait_interval": 0
     }
    },
    "colab_type": "code",
    "collapsed": true,
    "deletable": true,
    "editable": true,
    "id": "Xd3r2c_VWig2"
   },
   "outputs": [],
   "source": [
    "def iterate_minibatches(inputs, targets, batchsize, shuffle=False):\n",
    "    assert len(inputs) == len(targets)\n",
    "    if shuffle:\n",
    "        indices = np.arange(len(inputs))\n",
    "        np.random.shuffle(indices)\n",
    "    for start_idx in range(0, len(inputs) - batchsize + 1, batchsize):\n",
    "        if shuffle:\n",
    "            excerpt = indices[start_idx:start_idx + batchsize]\n",
    "        else:\n",
    "            excerpt = slice(start_idx, start_idx + batchsize)\n",
    "        yield inputs[excerpt], targets[excerpt]"
   ]
  },
  {
   "cell_type": "code",
   "execution_count": 0,
   "metadata": {
    "colab": {
     "autoexec": {
      "startup": false,
      "wait_interval": 0
     }
    },
    "colab_type": "code",
    "collapsed": true,
    "deletable": true,
    "editable": true,
    "id": "O0UeaF8MvaDr"
   },
   "outputs": [],
   "source": [
    "# @TODO: add your code for train&validation metrics plots:\n",
    "#  - epoch loss (train&validation - 2 curves on same figure)\n",
    "#  - epoch accurary (train&validation - 2 curves on same figure)"
   ]
  },
  {
   "cell_type": "code",
   "execution_count": 0,
   "metadata": {
    "colab": {
     "autoexec": {
      "startup": false,
      "wait_interval": 0
     }
    },
    "colab_type": "code",
    "collapsed": true,
    "deletable": true,
    "editable": true,
    "id": "RY4QZI296iUp"
   },
   "outputs": [],
   "source": [
    "init = True"
   ]
  },
  {
   "cell_type": "code",
   "execution_count": 0,
   "metadata": {
    "colab": {
     "autoexec": {
      "startup": false,
      "wait_interval": 0
     },
     "base_uri": "https://localhost:8080/",
     "height": 874
    },
    "colab_type": "code",
    "collapsed": false,
    "deletable": true,
    "editable": true,
    "id": "be5cjmPdvaDv",
    "outputId": "eaedddfb-6a3d-45df-8a8b-c0b3888ac8cf"
   },
   "outputs": [
    {
     "data": {
      "image/png": "[encoded data removed]",
      "text/plain": [
       "<matplotlib.figure.Figure at 0x7f90a5713898>"
      ]
     },
     "metadata": {
      "tags": []
     },
     "output_type": "display_data"
    },
    {
     "data": {
      "image/png": "[encoded data removed]",
      "text/plain": [
       "<matplotlib.figure.Figure at 0x7f90a56fad30>"
      ]
     },
     "metadata": {
      "tags": []
     },
     "output_type": "display_data"
    },
    {
     "name": "stdout",
     "output_type": "stream",
     "text": [
      "Epoch 23 of 250 took 54.621s\n",
      "  train loss:\t\t1.073985\n",
      "  train accuracy:\t\t79.92 %\n",
      "  valid loss:\t\t1.408323\n",
      "  valid accuracy:\t\t71.66 %\n"
     ]
    }
   ],
   "source": [
    "train_loss_history = []\n",
    "valid_loss_history = []\n",
    "train_accuracy_history = []\n",
    "valid_accuracy_history = []\n",
    "config = tf.ConfigProto()\n",
    "\n",
    "with tf.Session(graph=graph, config=config) as sess:\n",
    "    saver = tf.train.Saver()\n",
    "    if init:\n",
    "        sess.run(tf.global_variables_initializer())\n",
    "    else:\n",
    "        saver.restore(sess, './model/cifar_'+model_name+'.ckpt')\n",
    "        \n",
    "    # Set seed\n",
    "    np.random.seed(0)\n",
    "    \n",
    "    for epoch in range(epochs):\n",
    "        # In each epoch, we do a full pass over the training data:\n",
    "        train_loss = 0\n",
    "        train_acc = 0\n",
    "        train_batches = 0\n",
    "        start_time = time.time()\n",
    "        for batch in iterate_minibatches(X_train, y_train, batch_size):\n",
    "            inputs, targets = batch\n",
    "            train_loss_batch, train_acc_batch = train_fn(inputs, targets, sess)\n",
    "            train_loss += train_loss_batch\n",
    "            train_acc += train_acc_batch\n",
    "            train_batches += 1\n",
    "        train_loss_history.append(train_loss / train_batches)\n",
    "        train_accuracy_history.append(train_acc / train_batches)\n",
    "    \n",
    "        # And a full pass over the validation data:\n",
    "        valid_loss = 0\n",
    "        valid_acc = 0\n",
    "        valid_batches = 0\n",
    "        for batch in iterate_minibatches(X_test, y_test, batch_size):\n",
    "            inputs, targets = batch\n",
    "            valid_loss_batch, valid_acc_batch = eval_fn(inputs, targets, sess)\n",
    "            valid_loss += valid_loss_batch\n",
    "            valid_acc += valid_acc_batch\n",
    "            valid_batches += 1\n",
    "        valid_loss_history.append(valid_loss / valid_batches)\n",
    "        valid_accuracy_history.append(valid_acc / valid_batches)\n",
    "            \n",
    "        # Visualize\n",
    "        display.clear_output(wait=True)\n",
    "\n",
    "        plt.figure(figsize=(8, 6))   \n",
    "        plt.title(\"Training and Eval loss\")\n",
    "        plt.xlabel(\"#iteration\")\n",
    "        plt.ylabel(\"loss\")\n",
    "        plt.plot(train_loss_history, 'b', label='train')\n",
    "        plt.plot(valid_loss_history, 'g', label='eval')\n",
    "        plt.legend()\n",
    "        plt.show()\n",
    "\n",
    "        plt.figure(figsize=(8, 6))   \n",
    "        plt.title(\"Training and Eval accuracy\")\n",
    "        plt.xlabel(\"#iteration\")\n",
    "        plt.ylabel(\"accuracy\")\n",
    "        plt.plot(train_accuracy_history, 'b', label='train')\n",
    "        plt.plot(valid_accuracy_history, 'g', label='eval')\n",
    "        plt.legend()\n",
    "        plt.show()\n",
    "    \n",
    "        # Then we print the results for this epoch:\n",
    "        print(\"Epoch {} of {} took {:.3f}s\".format(epoch + 1, epochs, time.time() - start_time))\n",
    "        print(\"  train loss:\\t\\t{:.6f}\".format(train_loss / train_batches))\n",
    "        print(\"  train accuracy:\\t\\t{:.2f} %\".format(train_acc / train_batches * 100))\n",
    "        print(\"  valid loss:\\t\\t{:.6f}\".format(valid_loss / valid_batches))\n",
    "        print(\"  valid accuracy:\\t\\t{:.2f} %\".format(valid_acc / valid_batches * 100))\n",
    "        \n",
    "        # save the session\n",
    "        save_path = saver.save(sess, './model/cifar_'+model_name+'.ckpt')\n",
    "        init = False"
   ]
  },
  {
   "cell_type": "code",
   "execution_count": 0,
   "metadata": {
    "colab": {
     "autoexec": {
      "startup": false,
      "wait_interval": 0
     }
    },
    "colab_type": "code",
    "collapsed": true,
    "deletable": true,
    "editable": true,
    "id": "m8NzHKjUvaDy"
   },
   "outputs": [],
   "source": [
    "# test_acc = 0\n",
    "test_batches = 0\n",
    "for batch in iterate_minibatches(X_test, y_test, 500):\n",
    "    inputs, targets = batch\n",
    "    _, acc = eval_fn(inputs, targets)\n",
    "    test_acc += acc\n",
    "    test_batches += 1\n",
    "print(\"Final results:\")\n",
    "print(\"  test accuracy:\\t\\t{:.2f} %\".format(\n",
    "    test_acc / test_batches * 100))\n",
    "\n",
    "if test_acc / test_batches * 100 > 92.5:\n",
    "    print(\"Achievement unlocked: mage 80 lvl\")\n",
    "else:\n",
    "    print(\"Feed more!\")"
   ]
  },
  {
   "cell_type": "markdown",
   "metadata": {
    "colab_type": "text",
    "deletable": true,
    "editable": true,
    "id": "XVv7yecNvaD2"
   },
   "source": [
    "### Hi, my name is `...Luke Cifarwalker...`, and here's my story\n",
    "\n",
    "A long ago in a galaxy far far away, when it was still more than an hour before deadline, i got an idea:\n",
    "\n",
    "##### I gonna build a neural network, that\n",
    "...\n",
    "\n",
    "How could i be so naive?!\n",
    "\n",
    "##### One day, with no signs of warning,\n",
    "....\n",
    "\n",
    "##### Finally, after __  iterations, __ mugs of [tea/coffee]\n",
    "* what was the final architecture\n",
    "* as well as training method and tricks\n"
   ]
  },
  {
   "cell_type": "code",
   "execution_count": 0,
   "metadata": {
    "colab": {
     "autoexec": {
      "startup": false,
      "wait_interval": 0
     }
    },
    "colab_type": "code",
    "collapsed": true,
    "deletable": true,
    "editable": true,
    "id": "A2u5VlGavaD4"
   },
   "outputs": [],
   "source": []
  }
 ],
 "metadata": {
  "accelerator": "GPU",
  "colab": {
   "collapsed_sections": [],
   "default_view": {},
   "name": "hw7.ipynb",
   "provenance": [
    {
     "file_id": "1FlYpA-JHCZ1UilPScC2zWhZNCkE3Sv78",
     "timestamp": 1524942824964
    }
   ],
   "version": "0.3.2",
   "views": {}
  },
  "kernelspec": {
   "display_name": "Python 3",
   "language": "python",
   "name": "python3"
  },
  "language_info": {
   "codemirror_mode": {
    "name": "ipython",
    "version": 3
   },
   "file_extension": ".py",
   "mimetype": "text/x-python",
   "name": "python",
   "nbconvert_exporter": "python",
   "pygments_lexer": "ipython3",
   "version": "3.5.2"
  }
 },
 "nbformat": 4,
 "nbformat_minor": 0
}
