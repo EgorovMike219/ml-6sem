{
 "cells": [
  {
   "cell_type": "markdown",
   "metadata": {},
   "source": [
    "<span style=\"font-size: 14pt\">Домашнее задание №1 </span>\n",
    "\n",
    "<span style=\"color: red; font-size: 14pt\">Deadline: 27.02.2018 23:59:59</span>\n",
    "\n",
    "<span style=\"font-size: 10pt\">ФИВТ, АПТ, Курс по машинному обучению, Весна 2018</span>\n",
    "\n",
    "<span style=\"color:blue; font-size: 10pt\">Alexey Romanenko, </span>\n",
    "<span style=\"color:blue; font-size: 10pt; font-family: 'Verdana'\">alexromsput@gmail.com</span>\n"
   ]
  },
  {
   "cell_type": "markdown",
   "metadata": {},
   "source": [
    "<h1 align=\"center\">Organization Info</h1> "
   ]
  },
  {
   "cell_type": "markdown",
   "metadata": {},
   "source": [
    "**Дополнительный материал для выполнения дз**:\n",
    "- Воронцов К. В. Математические методы обучения по прецедентам. 2012. \n",
    "- Мерков А. Б. Распознавание образов. Введение в методы статистического обучения. Едиториал УРСС. 2011. 256 стр.\n",
    "- Hastie T., Tibshirani R., Friedman J. The Elements of Statistical Learning. Springer: Data Mining, Inference, and Prediction. — 2nd ed. — Springer-Verlag. 2009. — 746 p.\n",
    "- C. M. Bishop. Pattern Recognition and Machine Learning. — Springer, Series: Information Science and Statistics. 2006. — 738 p.\n",
    "\n",
    "**Оформление дз**: \n",
    "- Присылайте выполненное задание на почту ``ml.course.mipt@gmail.com``\n",
    "- Укажите тему письма в следующем формате ``ML2018_fall <номер_группы> <фамилия>``, к примеру -- ``ML2018_fall 596 ivanov``\n",
    "- Выполненное дз сохраните в файл ``ML2018_<фамилия>_<группа>_task<номер задания>.ipnb``, к примеру -- ``ML2018_ivanov_596_task1.ipnb``\n",
    "\n",
    "**Вопросы**:\n",
    "- Присылайте вопросы на почту ``ml.course.mipt@gmail.com``\n",
    "- Укажите тему письма в следующем формате ``ML2018_fall Question <Содержание вопроса>``\n",
    "\n",
    "--------\n",
    "- **PS1**: Используются автоматические фильтры, и просто не найдем ваше дз, если вы неаккуратно его подпишите.\n",
    "- **PS2**: Просроченный дедлайн снижает максимальный вес задания по формуле, указнной на первом семинаре\n",
    "- **PS3**: Допустимы исправление кода предложенного кода ниже, если вы считаете"
   ]
  },
  {
   "cell_type": "markdown",
   "metadata": {},
   "source": [
    "<h1 align=\"center\"> Вопросы для самоконтроля </h1> \n",
    "\n",
    "Ниже приводится список вопросов, с ответами на которые может быть полезно разобраться для комфортного выполнения задания.\n",
    "\n",
    "* Основные понятия\n",
    "    1. Что такое задачи классификации, кластеризации и регрессии? Какие из них относятся к supervised learning, а какие - к unsupervised learning?\n",
    "    2. Что такое переобучение и недообучение? Как их можно детектировать?\n",
    "    3. Что такое обучающая и тестовая выборки, кросс-валидация? Как устроена k-fold cross validation?\n",
    "    4. Разложение ошибки метода обучения на bias и Variance: как ведут себя обе величины, когда увеличивается сложность семейства настраиваемых алгоритмов?\n",
    "\n",
    "\n",
    "* Простые методы\n",
    "    1. Как работает kNN в задаче классификации?\n",
    "    2. Как работает kNN с весами объектов в задаче классификации и в задаче регрессии?\n",
    "    3. Как работает наивный байесовский классификатор, в чем заключается его \"наивность\"?\n",
    "    4. Как приближается исходная зависимость y от x в линейной регрессии и как настраиваются веса в ней?\n",
    "    5. В чем суть проклятия размерности?\n",
    "\n",
    "\n",
    "* Измерение ошибки/точности в задачах классификации и регрессии\n",
    "    1. Как вычисляются и в каких задачах (классификации/регрессии) применяются метрики:\n",
    "    accuracy, precision, recall, F1-measure, ROC-AUC, PR-AUC, MSE, MAE, RMSE?\n",
    "    2. Решается задача бинарной классификации (с двумя классами - 0 и 1), в которой при-\n",
    "    меры из класса 0 составляют 95% выборки. Какие метрики из перечисленных в преды-\n",
    "    дущем вопросе предпочтительней использовать?\n",
    "    3. К оценке какой величины для распределения y при условии x приводят MSE и MAE?\n",
    "    4. Какая из метрик должня использоваться в задаче регрессии, чтобы ответ был равен медиане распределения прогнозируемой случайно величины?\n",
    "\n",
    "\n",
    "* Python, numpy, scipy, matplotlib, sklearn, pandas\n",
    "    1. Типы данных list, tuple, dict, set, str, unicode, hashable и unhashable. \n",
    "    2. Зачем нужны numpy и scipy? Какой тип данных в numpy используется для работы с\n",
    "    многомерными массивами? Отличия в индексации двумерного ndarray и списка списков.\n",
    "    3. Как в scipy решить численно несложную оптимизационную задачу? Какие методы оп-\n",
    "    тимизации в нем представлены?\n",
    "    4. Как по списку значений x и списку значений y в этих точках построить график y(x) в\n",
    "    matplotlib?\n",
    "    5. Как в sklearn обучить модель на обучающей выборке и получить прогнозы на тестовой?\n",
    "    6. Какие есть средства для измерения качества модели в sklearn? Как посчтитать качество\n",
    "    в k-fold cross validation?\n",
    "    7. Какие метрики можно использовать в cross_val_score из sklearn?\n",
    "    8. Как считать выборку из csv в pandas DataFrame? А как записать DataFrame в файл? Как\n",
    "    указывать при чтении/записи кодировку, используемые разделители, наличие/отсутствие\n",
    "    заголовков у колонок?"
   ]
  },
  {
   "cell_type": "markdown",
   "metadata": {},
   "source": [
    "<h1 align=\"center\">Теоретические вопросы (2 балла) </h1> "
   ]
  },
  {
   "cell_type": "markdown",
   "metadata": {},
   "source": [
    "** Задача 1**\n",
    "Покажите, что ROC-AUC  в случае, когда классификатор даёт случайные ответы $a(x) = 1$ с вероятностью $p$ и $a(x) = 0$ с вероятностью $1 − p$, будет в среднем равен 0.5 независимо от p и доли класса 1 в обучающей выборке.\n",
    "\n",
    "<Решение:> AUC равно площади под ROC кривой TPR(FPR).\n",
    "$$TPR = \\frac{TP}{TP + FN}=\\frac{N_1p}{N_1p+N_1(1-p)}=p$$\n",
    "$$FPR = \\frac{FP}{FP + TN}=\\frac{N_0p}{N_0p+N_0(1-p)}=p$$\n",
    "\n",
    "Tак как $TPR=FPR=p$, из этого можно сделать вывод график ROC кривой $y=x,\\;\\;\\; x\\in[0,1]$, а AUC=0.5."
   ]
  },
  {
   "cell_type": "markdown",
   "metadata": {},
   "source": [
    "** Задача 2**\n",
    "Покажите, что с ростом размерности пространства признаков при равномерном распределении точек в кубе $[0; 1]^𝑑$ вероятность попасть в куб $[0; 0, 99]^𝑑$ стремится к нулю. Это одна из иллюстраций проклятия размерностей (dimension curse). Попробуйте придумать или найти еще какую-нибудь иллюстрацию к этому явлению и кратко изложить.\n",
    "\n",
    "<Решение:>\n",
    "Пусть $V_{[0,a]}$ объём куба в $d$ мерном пространстве со сторонами длины $a$, тогда отношение $\\frac{V_{[0,0.99]}}{V_{[0,1]}}=0.99^d$, при стремлении $d$ к бесконечности, стремится к нулю. Из этого можно сделать вывод, что при больших значениях признаков почти все объекты лежат на границе."
   ]
  },
  {
   "cell_type": "markdown",
   "metadata": {
    "collapsed": true
   },
   "source": [
    "<h1 align=\"center\">Исследуйте зависимость Bias-Variance для kNN (3 балла) </h1> "
   ]
  },
  {
   "cell_type": "markdown",
   "metadata": {},
   "source": [
    "Используя данные из задачи классификации доходов индивидуума http://archive.ics.uci.edu/ml/machine-learning-databases/adult, постройте зависимость величин bias, variance и noise для следующих пар \"модель|параметр\".\n",
    "Предобработка данных (преобразование признаков, разметка классов) определяется вами. \n",
    "\n",
    "* kNN, $n\\_neigbours$ - число соседей при классификации;\n",
    "* $p$ - степень метрики Минковского;\n",
    "* $\\ell\\_train$ - длина обучающий выборки;\n",
    "\n",
    "\n",
    "По каждому построенному графику (для каждого параметра должен быть отдельный график) объясните полученную картину. Совпадает ли она с теоретическими ожиданиями (см. семинар 2)?"
   ]
  },
  {
   "cell_type": "code",
   "execution_count": 15,
   "metadata": {},
   "outputs": [],
   "source": [
    "import numpy as np\n",
    "import matplotlib.pyplot as plt\n",
    "from sklearn.neighbors import KNeighborsClassifier\n",
    "import pandas as pd\n",
    "from sklearn import preprocessing, model_selection\n",
    "from tqdm import tqdm\n",
    "%matplotlib inline\n",
    "\n",
    "\n",
    "# Используются данные из https://archive.ics.uci.edu/ml/datasets/Adult\n",
    "df = pd.read_csv('https://archive.ics.uci.edu/ml/machine-learning-databases/adult/adult.data', header=None)\n",
    "columns = ('age workclass fnlwgt education educ-num marital-status occupation relationship '\n",
    "           'race sex capital-gain capital-loss  hours-per-week native-country salary')\n",
    "df.columns = columns.split()\n",
    "df.replace(' ?', np.nan, inplace=True)\n",
    "df = df.dropna()\n",
    "\n",
    "def number_encode_features(init_df):\n",
    "    result = init_df.copy()\n",
    "    encoders = {}\n",
    "    for column in result.columns:\n",
    "        if result.dtypes[column] == np.object:\n",
    "            encoders[column] = preprocessing.LabelEncoder()\n",
    "            result[column] = encoders[column].fit_transform(result[column])\n",
    "    return result, encoders\n",
    "\n",
    "encoded_data, encoders = number_encode_features(df)"
   ]
  },
  {
   "cell_type": "code",
   "execution_count": 16,
   "metadata": {},
   "outputs": [],
   "source": [
    "from sklearn.utils import shuffle\n",
    "encoded_data['salary'] = df['salary'].apply((lambda x: float(x==' >50K')))\n",
    "data = shuffle(encoded_data.values)\n",
    "data = data[:int(data.shape[0]*0.1)]"
   ]
  },
  {
   "cell_type": "code",
   "execution_count": 17,
   "metadata": {},
   "outputs": [],
   "source": [
    "# Settings\n",
    "n_repeat = 100       # Number of iterations for computing expectations\n",
    "test_size = 0.5       # (Relative) Size of the test set\n",
    "\n",
    "# Исследуемая сетка параметров\n",
    "# пояснение: длина train выборки должна варьироваться от 50% до 200% относительно длины тестовой выборки  \n",
    "parameters = {\"k\": range(1,20,1), \"p\":  np.arange(1, 10, 0.5), \"l_train\": np.arange(0.5, 2, 0.1)}\n",
    "\n",
    "# Get Data\n",
    "train , test = model_selection.train_test_split(data, test_size = test_size)\n",
    "\n",
    "X_test, y_test = test[:,:14], test[:,14]\n",
    "means, stds = X_test.mean(axis=0), X_test.std(axis=0)\n",
    "X_test = (X_test - means) / stds\n",
    "X_train = []\n",
    "y_train = []\n",
    "# Для того чтобы оценить bias и variance, нужно сгенерировать случайные подвыборки с возвращением из исходного массива данных \n",
    "# (бутстрепинг)\n",
    "for i in range(n_repeat):\n",
    "    ind = np.random.choice(len(train), size=len(train), replace=True)\n",
    "    sample_train = train[ind]\n",
    "    X, y = sample_train[:,:14], sample_train[:,14]\n",
    "    means, stds = X.mean(axis=0), X.std(axis=0)\n",
    "    X = (X - means) / stds\n",
    "    X_train.append(X)\n",
    "    y_train.append(y)"
   ]
  },
  {
   "cell_type": "code",
   "execution_count": 18,
   "metadata": {},
   "outputs": [
    {
     "name": "stderr",
     "output_type": "stream",
     "text": [
      "100%|██████████| 19/19 [03:49<00:00, 12.08s/it]\n"
     ]
    }
   ],
   "source": [
    "# Для каждого значения парамера оцените значение error, bias и variance согласно следующей схеме\n",
    "p_name ='k'\n",
    "bias_variance_df = pd.DataFrame.from_dict({p_name:parameters[p_name],'bias':list([np.NaN]*len(parameters[p_name]))\n",
    "                                           , 'variance':list([np.NaN]*len(parameters[p_name]))\n",
    "                                           , 'error':list([np.NaN]*len(parameters[p_name]))})\n",
    "for parameter in tqdm(parameters[p_name]):\n",
    "    # Compute predictions\n",
    "    y_predict = np.zeros((len(test), n_repeat))\n",
    "\n",
    "    for i in range(n_repeat):\n",
    "        estimator = KNeighborsClassifier(n_neighbors = parameter, n_jobs = 4)\n",
    "        estimator.fit(X_train[i], y_train[i])\n",
    "        y_predict[:, i] = estimator.predict(X_test)\n",
    "\n",
    "    # Bias^2 + Variance + Noise decomposition of the mean squared error\n",
    "    y_error = np.zeros(len(test))\n",
    "\n",
    "    for i in range(n_repeat):\n",
    "        y_error += (y_test - y_predict[:, i]) ** 2\n",
    "\n",
    "    y_error /= (n_repeat)\n",
    "\n",
    "    # В каждой точке тестовой выборки bias положим равным квадрату разности реального значения \n",
    "    # и среднего предсказанного значения по всем обучающим выборкам.\n",
    "    y_bias = (y_test - np.mean(y_predict, axis=1)) ** 2\n",
    "    \n",
    "    # Variance положим равным среднеквадратичному разбросу значений по всем обучающим выборкам. \n",
    "    # Итоговое значение bias и variance возьмём равным среднему по всем точкам тестовой выборки\n",
    "    y_var = np.var(y_predict, axis=1)\n",
    "    \n",
    "    bias_variance_df.loc[bias_variance_df[p_name]==parameter, 'bias'] = y_bias.mean()\n",
    "    bias_variance_df.loc[bias_variance_df[p_name]==parameter, 'variance'] = y_var.mean()\n",
    "    bias_variance_df.loc[bias_variance_df[p_name]==parameter, 'error'] = y_error.mean()\n",
    "    "
   ]
  },
  {
   "cell_type": "code",
   "execution_count": 19,
   "metadata": {},
   "outputs": [
    {
     "data": {
      "text/plain": [
       "<matplotlib.axes._subplots.AxesSubplot at 0x7efbb7e53c18>"
      ]
     },
     "execution_count": 19,
     "metadata": {},
     "output_type": "execute_result"
    },
    {
     "data": {
      "text/plain": [
       "<matplotlib.figure.Figure at 0x7efbb7eb1da0>"
      ]
     },
     "metadata": {},
     "output_type": "display_data"
    },
    {
     "data": {
      "image/png": "[encoded data removed]",
      "text/plain": [
       "<matplotlib.figure.Figure at 0x7efbb894f588>"
      ]
     },
     "metadata": {},
     "output_type": "display_data"
    }
   ],
   "source": [
    "# нарисуйте зависимость bias, variance и error от значений параметров\n",
    "plt.figure(figsize=(10, 8))\n",
    "bias_variance_df.set_index(p_name).plot()"
   ]
  },
  {
   "cell_type": "code",
   "execution_count": 20,
   "metadata": {},
   "outputs": [
    {
     "name": "stderr",
     "output_type": "stream",
     "text": [
      "100%|██████████| 18/18 [32:53<00:00, 109.66s/it]\n"
     ]
    }
   ],
   "source": [
    "# Для каждого значения парамера оцените значение error, bias и variance согласно следующей схеме\n",
    "p_name ='p'\n",
    "bias_variance_df = pd.DataFrame.from_dict({p_name:parameters[p_name],'bias':list([np.NaN]*len(parameters[p_name]))\n",
    "                                           , 'variance':list([np.NaN]*len(parameters[p_name]))\n",
    "                                           , 'error':list([np.NaN]*len(parameters[p_name]))})\n",
    "for parameter in tqdm(parameters[p_name]):\n",
    "    # Compute predictions\n",
    "    y_predict = np.zeros((len(test), n_repeat))\n",
    "\n",
    "    for i in range(n_repeat):\n",
    "        estimator = KNeighborsClassifier(p = parameter, n_jobs = 4)\n",
    "        estimator.fit(X_train[i], y_train[i])\n",
    "        y_predict[:, i] = estimator.predict(X_test)\n",
    "\n",
    "    # Bias^2 + Variance + Noise decomposition of the mean squared error\n",
    "    y_error = np.zeros(len(test))\n",
    "\n",
    "    for i in range(n_repeat):\n",
    "        y_error += (y_test - y_predict[:, i]) ** 2\n",
    "\n",
    "    y_error /= (n_repeat)\n",
    "\n",
    "    # В каждой точке тестовой выборки bias положим равным квадрату разности реального значения \n",
    "    # и среднего предсказанного значения по всем обучающим выборкам.\n",
    "    y_bias = (y_test - np.mean(y_predict, axis=1)) ** 2\n",
    "    \n",
    "    # Variance положим равным среднеквадратичному разбросу значений по всем обучающим выборкам. \n",
    "    # Итоговое значение bias и variance возьмём равным среднему по всем точкам тестовой выборки\n",
    "    y_var = np.var(y_predict, axis=1)\n",
    "    \n",
    "    bias_variance_df.loc[bias_variance_df[p_name]==parameter, 'bias'] = y_bias.mean()\n",
    "    bias_variance_df.loc[bias_variance_df[p_name]==parameter, 'variance'] = y_var.mean()\n",
    "    bias_variance_df.loc[bias_variance_df[p_name]==parameter, 'error'] = y_error.mean()"
   ]
  },
  {
   "cell_type": "code",
   "execution_count": 21,
   "metadata": {},
   "outputs": [
    {
     "data": {
      "text/plain": [
       "<matplotlib.axes._subplots.AxesSubplot at 0x7efbb7e06dd8>"
      ]
     },
     "execution_count": 21,
     "metadata": {},
     "output_type": "execute_result"
    },
    {
     "data": {
      "text/plain": [
       "<matplotlib.figure.Figure at 0x7efbb7e320b8>"
      ]
     },
     "metadata": {},
     "output_type": "display_data"
    },
    {
     "data": {
      "image/png": "[encoded data removed]",
      "text/plain": [
       "<matplotlib.figure.Figure at 0x7efbb7dfa550>"
      ]
     },
     "metadata": {},
     "output_type": "display_data"
    }
   ],
   "source": [
    "# нарисуйте зависимость bias, variance и error от значений параметров\n",
    "plt.figure(figsize=(10, 8))\n",
    "bias_variance_df.set_index(p_name).plot()"
   ]
  },
  {
   "cell_type": "code",
   "execution_count": 22,
   "metadata": {},
   "outputs": [
    {
     "name": "stderr",
     "output_type": "stream",
     "text": [
      "100%|██████████| 15/15 [03:01<00:00, 12.08s/it]\n"
     ]
    }
   ],
   "source": [
    "# Для каждого значения парамера оцените значение error, bias и variance согласно следующей схеме\n",
    "p_name ='l_train'\n",
    "bias_variance_df = pd.DataFrame.from_dict({p_name:parameters[p_name],'bias':list([np.NaN]*len(parameters[p_name]))\n",
    "                                           , 'variance':list([np.NaN]*len(parameters[p_name]))\n",
    "                                           , 'error':list([np.NaN]*len(parameters[p_name]))})\n",
    "for parameter in tqdm(parameters[p_name]):\n",
    "    # Для того чтобы оценить bias и variance, нужно сгенерировать случайные подвыборки с возвращением из исходного массива данных \n",
    "    # (бутстрепинг)\n",
    "    for i in range(n_repeat):\n",
    "        ind = np.random.choice(len(train), size=len(parameter*train), replace=True)\n",
    "        sample_train = train[ind]\n",
    "        X, y = sample_train[:,:14], sample_train[:,14]\n",
    "        means, stds = X.mean(axis=0), X.std(axis=0)\n",
    "        X = (X - means) / stds\n",
    "        X_train.append(X)\n",
    "        y_train.append(y)\n",
    "    # Compute predictions\n",
    "    y_predict = np.zeros((len(test), n_repeat))\n",
    "\n",
    "    for i in range(n_repeat):\n",
    "        estimator = KNeighborsClassifier(n_jobs = 4)\n",
    "        estimator.fit(X_train[i], y_train[i])\n",
    "        y_predict[:, i] = estimator.predict(X_test)\n",
    "\n",
    "    # Bias^2 + Variance + Noise decomposition of the mean squared error\n",
    "    y_error = np.zeros(len(test))\n",
    "\n",
    "    for i in range(n_repeat):\n",
    "        y_error += (y_test - y_predict[:, i]) ** 2\n",
    "\n",
    "    y_error /= (n_repeat)\n",
    "\n",
    "    # В каждой точке тестовой выборки bias положим равным квадрату разности реального значения \n",
    "    # и среднего предсказанного значения по всем обучающим выборкам.\n",
    "    y_bias = (y_test - np.mean(y_predict, axis=1)) ** 2\n",
    "    \n",
    "    # Variance положим равным среднеквадратичному разбросу значений по всем обучающим выборкам. \n",
    "    # Итоговое значение bias и variance возьмём равным среднему по всем точкам тестовой выборки\n",
    "    y_var = np.var(y_predict, axis=1)\n",
    "    \n",
    "    bias_variance_df.loc[bias_variance_df[p_name]==parameter, 'bias'] = y_bias.mean()\n",
    "    bias_variance_df.loc[bias_variance_df[p_name]==parameter, 'variance'] = y_var.mean()\n",
    "    bias_variance_df.loc[bias_variance_df[p_name]==parameter, 'error'] = y_error.mean()\n",
    "    "
   ]
  },
  {
   "cell_type": "code",
   "execution_count": 23,
   "metadata": {},
   "outputs": [
    {
     "data": {
      "text/plain": [
       "<matplotlib.axes._subplots.AxesSubplot at 0x7efbb7dfda58>"
      ]
     },
     "execution_count": 23,
     "metadata": {},
     "output_type": "execute_result"
    },
    {
     "data": {
      "text/plain": [
       "<matplotlib.figure.Figure at 0x7efbb80ca780>"
      ]
     },
     "metadata": {},
     "output_type": "display_data"
    },
    {
     "data": {
      "image/png": "[encoded data removed]",
      "text/plain": [
       "<matplotlib.figure.Figure at 0x7efbb80c8978>"
      ]
     },
     "metadata": {},
     "output_type": "display_data"
    }
   ],
   "source": [
    "# нарисуйте зависимость bias, variance и error от значений параметров\n",
    "plt.figure(figsize=(10, 8))\n",
    "bias_variance_df.set_index(p_name).plot()"
   ]
  },
  {
   "cell_type": "markdown",
   "metadata": {},
   "source": [
    "<h2 align=\"center\">Реализуйте kNN (2 балла)</h2>"
   ]
  },
  {
   "cell_type": "code",
   "execution_count": 24,
   "metadata": {},
   "outputs": [],
   "source": [
    "import warnings\n",
    "import numpy as np\n",
    "from sklearn.neighbors import KDTree\n",
    "from tqdm import tqdm\n",
    "\n",
    "warnings.simplefilter(\"ignore\")\n",
    "\n",
    "class kNNClassifier():\n",
    "    def __init__(self, n_neighbours, metric='minkowski'):\n",
    "        \"\"\"\n",
    "        Parameters\n",
    "        ----------\n",
    "        n_neighbours: int\n",
    "            Число соседей\n",
    "\n",
    "        metric: *alias\n",
    "            метрика измерения расстояний\n",
    "\n",
    "          \"\"\"\n",
    "        self.n_neighbours = n_neighbours\n",
    "        self.metric = metric\n",
    "        \n",
    "    def fit(self, X, y):\n",
    "        \"\"\"\n",
    "        \n",
    "        Parameters\n",
    "        ----------\n",
    "        X: 2d np.array\n",
    "        y: 1d np.array\n",
    "        \"\"\"\n",
    "\n",
    "        # Тут храните описание объектов обучающей выборки\n",
    "        self.X_learn = X\n",
    "\n",
    "        # Тут храните ответы по каждому объекту обучающей выборки\n",
    "        self.y_learn = y\n",
    "        \n",
    "        # =======================================\n",
    "        # для быстрого поиска К ближайших соседей используем структуру KD дерево\n",
    "        # ======================================\n",
    "        self.tree = KDTree(self.X_learn) \n",
    "\n",
    "        \n",
    "        return self\n",
    "\n",
    "    def predict(self, X):\n",
    "        \"\"\"\n",
    "\n",
    "        Parameters\n",
    "        ----------\n",
    "        X: 2d np.array матрица объекты признаки на которых нужно сказать ответ\n",
    "\n",
    "        Returns\n",
    "        -------\n",
    "        y_pred: 1d np.array, вектор классов для каждого объекта\n",
    "        \"\"\"\n",
    "        def distance(a, b):\n",
    "            if (self.metric == 'minkowski'):\n",
    "                return np.sum((b-a)**2)\n",
    "            else:\n",
    "                return 1\n",
    "        \n",
    "        INF = 10**9\n",
    "         \n",
    "        dist = np.zeros(self.X_learn.shape[0]) # Храните тут расстояния до каждого элемента обучающей выборки \n",
    "        min_ind = np.zeros(self.n_neighbours, dtype=np.int) - 1 # Храним индексы к ближайших соседей, инициализируем -1\n",
    "        \n",
    "        # =======================================\n",
    "        # предскажите класс каждого из объектов\n",
    "        # =======================================\n",
    "        y_pred = np.zeros(X.shape[0])\n",
    "        \n",
    "        for i in tqdm(range(X.shape[0])):\n",
    "\n",
    "            # =======================================\n",
    "            # для быстрого поиска К ближайших соседей используем структуру KD дерево\n",
    "            # ======================================\n",
    "                          \n",
    "            dist_n, ind_n = self.tree.query([X[i]], k=self.n_neighbours)                \n",
    "#             print(ind_n)  # indices of self.n_neighbours closest neighbors\n",
    "#             print(dist_n)  # distances to self.n_neighbours closest neighbors\n",
    "            y_min_ind = np.array([self.y_learn[j] for j in ind_n[0]])\n",
    "            y_pred[i] = np.argmax(np.bincount(y_min_ind))  \n",
    "        \n",
    "        return y_pred"
   ]
  },
  {
   "cell_type": "code",
   "execution_count": 27,
   "metadata": {},
   "outputs": [],
   "source": [
    "import pandas as pd\n",
    "# Используются данные из https://archive.ics.uci.edu/ml/datasets/Adult\n",
    "df = pd.read_csv('https://archive.ics.uci.edu/ml/machine-learning-databases/adult/adult.data', header=None)\n",
    "columns = ('age workclass fnlwgt education educ-num marital-status occupation relationship '\n",
    "           'race sex capital-gain capital-loss  hours-per-week native-country salary')\n",
    "df.columns = columns.split()\n",
    "df.replace(' ?', np.nan, inplace=True)\n",
    "df = df.dropna()\n",
    "from sklearn import preprocessing\n",
    "def number_encode_features(init_df):\n",
    "    result = init_df.copy()\n",
    "    encoders = {}\n",
    "    for column in result.columns:\n",
    "        if result.dtypes[column] == np.object:\n",
    "            encoders[column] = preprocessing.LabelEncoder()\n",
    "            result[column] = encoders[column].fit_transform(result[column])\n",
    "    return result, encoders\n",
    "\n",
    "encoded_data, encoders = number_encode_features(df)\n",
    "encoded_data['salary'] = df['salary'].apply((lambda x: int(x==' >50K')))\n",
    "X = encoded_data.iloc[:,:14].values\n",
    "y = encoded_data.salary.values\n",
    "means, stds = X.mean(axis=0), X.std(axis=0)\n",
    "X = (X - means) / stds"
   ]
  },
  {
   "cell_type": "code",
   "execution_count": 28,
   "metadata": {},
   "outputs": [
    {
     "name": "stderr",
     "output_type": "stream",
     "text": [
      "100%|██████████| 21113/21113 [00:40<00:00, 520.12it/s]\n",
      "100%|██████████| 9049/9049 [00:17<00:00, 505.83it/s]\n"
     ]
    },
    {
     "name": "stdout",
     "output_type": "stream",
     "text": [
      "kNNClassifier(3) 0.8935726803391275 0.8161122775997348\n",
      "KNeighborsClassifier(3) 0.8935726803391275 0.8161122775997348\n"
     ]
    },
    {
     "name": "stderr",
     "output_type": "stream",
     "text": [
      "100%|██████████| 21113/21113 [00:41<00:00, 514.36it/s]\n",
      "100%|██████████| 9049/9049 [00:18<00:00, 499.31it/s]\n"
     ]
    },
    {
     "name": "stdout",
     "output_type": "stream",
     "text": [
      "kNNClassifier(5) 0.87439018614124 0.8253950712785943\n",
      "KNeighborsClassifier(5) 0.87439018614124 0.8253950712785943\n"
     ]
    },
    {
     "name": "stderr",
     "output_type": "stream",
     "text": [
      "100%|██████████| 21113/21113 [00:45<00:00, 462.55it/s]\n",
      "100%|██████████| 9049/9049 [00:20<00:00, 452.21it/s]\n"
     ]
    },
    {
     "name": "stdout",
     "output_type": "stream",
     "text": [
      "kNNClassifier(10) 0.8536920380808033 0.8333517515747596\n",
      "KNeighborsClassifier(10) 0.8536920380808033 0.8333517515747596\n"
     ]
    }
   ],
   "source": [
    "from sklearn.metrics import accuracy_score\n",
    "from sklearn import model_selection\n",
    "from sklearn.neighbors import KNeighborsClassifier\n",
    "\n",
    "X_train, X_test, y_train, y_test = model_selection.train_test_split(X, y, test_size = 0.3)\n",
    "\n",
    "# =======================================\n",
    "# Обучите классификатор при k=3, 5, и 10\n",
    "# =======================================\n",
    "clf = kNNClassifier(3)\n",
    "clf.fit(X_train, y_train)\n",
    "print (\"kNNClassifier(3)\", accuracy_score(clf.predict(X_train), y_train), accuracy_score(clf.predict(X_test), y_test))\n",
    "neigh = KNeighborsClassifier(n_neighbors=3)\n",
    "neigh.fit(X_train, y_train) \n",
    "print(\"KNeighborsClassifier(3)\", accuracy_score(neigh.predict(X_train), y_train), accuracy_score(neigh.predict(X_test), y_test))\n",
    "\n",
    "clf = kNNClassifier(5)\n",
    "clf.fit(X_train, y_train)\n",
    "print (\"kNNClassifier(5)\", accuracy_score(clf.predict(X_train), y_train), accuracy_score(clf.predict(X_test), y_test))\n",
    "neigh = KNeighborsClassifier(n_neighbors=5)\n",
    "neigh.fit(X_train, y_train) \n",
    "print(\"KNeighborsClassifier(5)\", accuracy_score(neigh.predict(X_train), y_train), accuracy_score(neigh.predict(X_test), y_test))\n",
    "\n",
    "clf = kNNClassifier(10)\n",
    "clf.fit(X_train, y_train)\n",
    "print (\"kNNClassifier(10)\", accuracy_score(clf.predict(X_train), y_train), accuracy_score(clf.predict(X_test), y_test))\n",
    "neigh = KNeighborsClassifier(n_neighbors=10)\n",
    "neigh.fit(X_train, y_train) \n",
    "print(\"KNeighborsClassifier(10)\", accuracy_score(neigh.predict(X_train), y_train), accuracy_score(neigh.predict(X_test), y_test))"
   ]
  },
  {
   "cell_type": "markdown",
   "metadata": {},
   "source": [
    "<h1 align=\"center\">Отбор признаков (3 балла) </h1>"
   ]
  },
  {
   "cell_type": "markdown",
   "metadata": {},
   "source": [
    "Реализуйте алгоритм отбора признаков ADD_DELL и примените его для kNN на данных sklearn.datasets.digits(). \n",
    "Для этого предлагается реализовать следующие функции"
   ]
  },
  {
   "cell_type": "code",
   "execution_count": 29,
   "metadata": {},
   "outputs": [],
   "source": [
    "# обновление минимального значения ошибки\n",
    "def update_Q_min_index(estimator, Q_min, Q_min_set, Q_min_index, feature_set, X_train, Y_train, X_test, Y_test, update_equal=False):\n",
    "    feature_set_size = len(feature_set)\n",
    "    estimator.fit(X_train[:, feature_set], Y_train)\n",
    "    error = 1 - accuracy_score(Y_test, estimator.predict(X_test[:, feature_set]))\n",
    "    if error < Q_min[feature_set_size]:\n",
    "        Q_min_set[feature_set_size] = feature_set\n",
    "        Q_min[feature_set_size] = error\n",
    "        if ((Q_min[feature_set_size] < Q_min[Q_min_index])\n",
    "                or (update_equal and Q_min[feature_set_size] == Q_min[Q_min_index])):\n",
    "            Q_min_index = feature_set_size\n",
    "    return Q_min_index\n",
    "\n",
    "\n",
    "# Нужно реализовать алгоритм добавление\n",
    "def add_one(estimator, feature_set, X_train, Y_train, X_test, Y_test, look_forward=10, start_feature_set=[]):\n",
    "    Q_min = {0: float('+inf')}\n",
    "    Q_min_set = {0: []}\n",
    "    Q_min_index = 0\n",
    "    \n",
    "    # инициализация стартового набора признаков     \n",
    "    if start_feature_set:\n",
    "        estimator.fit(X_train[:, start_feature_set], Y_train)\n",
    "        error = 1 - accuracy_score(Y_test, estimator.predict(X_test[:, start_feature_set]))\n",
    "        Q_min = {len(start_feature_set) : error}\n",
    "        Q_min_set = {len(start_feature_set) : start_feature_set}\n",
    "        Q_min_index = len(start_feature_set)\n",
    "    \n",
    "    # добавление признаков     \n",
    "    for feature_set_size in range(len(start_feature_set) + 1, len(feature_set) + 1):\n",
    "        Q_min[feature_set_size] = float('+inf')\n",
    "        unused_features = set(feature_set).difference(set(Q_min_set[feature_set_size - 1]))\n",
    "        unused_features = list(unused_features)\n",
    "        features = Q_min_set[feature_set_size - 1]\n",
    "        #shuffle(unused_features)\n",
    "        for feature in unused_features:\n",
    "            new_feature_set = features.copy()\n",
    "            new_feature_set.append(feature)\n",
    "            Q_min_index = update_Q_min_index(estimator, Q_min, Q_min_set, Q_min_index, new_feature_set, X_train, Y_train, X_test, Y_test)\n",
    "        \n",
    "        print ('Q_min: %.4lf, set_size: %d, added: %s' % (Q_min[feature_set_size], feature_set_size, Q_min_set[feature_set_size][-1]))        \n",
    "    \n",
    "    # критерий останова\n",
    "        if Q_min_index + look_forward <= feature_set_size:\n",
    "            break\n",
    "    return Q_min_set[Q_min_index]\n",
    "\n",
    "def del_one(estimator, feature_set, X_train, Y_train, X_test, Y_test, look_forward=10):\n",
    "    \n",
    "#     инициализация\n",
    "    estimator.fit(X_train[:, feature_set], Y_train)\n",
    "    error = 1 - accuracy_score(Y_test, estimator.predict(X_test[:, feature_set]))\n",
    "    Q_min = {len(feature_set): error}\n",
    "    Q_min_set = {len(feature_set): list.copy(feature_set)}\n",
    "    Q_min_index = len(feature_set)\n",
    "    \n",
    "#     итерационное удаление признаков\n",
    "    for feature_set_size in list(range(len(feature_set) - 1, 0, -1)):\n",
    "        Q_min[feature_set_size] = float('+inf')\n",
    "        features = list.copy(Q_min_set[feature_set_size + 1])\n",
    "        # shuffle(features)\n",
    "        for feature in features:\n",
    "            new_feature_set = features.copy()\n",
    "            new_feature_set.remove(feature)\n",
    "            Q_min_index = update_Q_min_index(estimator, Q_min, Q_min_set, Q_min_index, new_feature_set, X_train, Y_train, X_test, Y_test)\n",
    "            \n",
    "        print ('Q_min: %.4lf, set_size: %d, deleted: %s' % (Q_min[feature_set_size], feature_set_size,\n",
    "            set(Q_min_set[feature_set_size + 1]).difference(set(Q_min_set[feature_set_size])),\n",
    "        ))\n",
    "        \n",
    "#         критерий останова\n",
    "        if feature_set_size + look_forward <= Q_min_index:\n",
    "            break\n",
    "    return Q_min_set[Q_min_index]\n",
    "\n",
    "# Наконец, реализуйте ADD-DELL\n",
    "def add_del(estimator, feature_set, X_train, Y_train, X_test, Y_test, look_forward=10):\n",
    "    Q_min = None\n",
    "    Q_min_current = float('+inf')\n",
    "    start_feature_set = []\n",
    "    \n",
    "#     количество итераций, приведших к увеличению ошибки\n",
    "    bad_iteration_count = 2\n",
    "    \n",
    "    while (Q_min is None) or (Q_min_current < Q_min or bad_iteration_count):\n",
    "        Q_min = Q_min_current\n",
    "        start_feature_set = add_one(estimator, feature_set, X_train, Y_train, X_test, Y_test, look_forward, start_feature_set=start_feature_set)    \n",
    "        start_feature_set = del_one(estimator, start_feature_set, X_train, Y_train, X_test, Y_test, look_forward)\n",
    "        estimator.fit(X_train[:, start_feature_set], Y_train)\n",
    "        Q_min_current = 1 - accuracy_score(Y_test, estimator.predict(X_test[:, start_feature_set]))\n",
    "        \n",
    "        if Q_min_current >= Q_min:\n",
    "            bad_iteration_count -= 1\n",
    "        print ('Q_min: %.4lf, set_size: %d' % (Q_min_current, len(start_feature_set)))\n",
    "    return start_feature_set"
   ]
  },
  {
   "cell_type": "code",
   "execution_count": 30,
   "metadata": {},
   "outputs": [
    {
     "name": "stdout",
     "output_type": "stream",
     "text": [
      "Q_min: 0.7622, set_size: 1, added: 28\n",
      "Q_min: 0.5981, set_size: 2, added: 30\n",
      "Q_min: 0.4743, set_size: 3, added: 46\n",
      "Q_min: 0.4172, set_size: 4, added: 26\n",
      "Q_min: 0.3088, set_size: 5, added: 10\n",
      "Q_min: 0.2197, set_size: 6, added: 43\n",
      "Q_min: 0.1558, set_size: 7, added: 61\n",
      "Q_min: 0.1182, set_size: 8, added: 21\n",
      "Q_min: 0.0793, set_size: 9, added: 52\n",
      "Q_min: 0.0654, set_size: 10, added: 27\n",
      "Q_min: 0.0515, set_size: 11, added: 38\n",
      "Q_min: 0.0473, set_size: 12, added: 19\n",
      "Q_min: 0.0389, set_size: 13, added: 36\n",
      "Q_min: 0.0320, set_size: 14, added: 42\n",
      "Q_min: 0.0264, set_size: 15, added: 12\n",
      "Q_min: 0.0195, set_size: 16, added: 25\n",
      "Q_min: 0.0181, set_size: 17, added: 41\n",
      "Q_min: 0.0181, set_size: 18, added: 0\n",
      "Q_min: 0.0181, set_size: 19, added: 1\n",
      "Q_min: 0.0181, set_size: 20, added: 8\n",
      "Q_min: 0.0181, set_size: 21, added: 16\n",
      "Q_min: 0.0195, set_size: 16, deleted: {41}\n",
      "Q_min: 0.0236, set_size: 15, deleted: {30}\n",
      "Q_min: 0.0306, set_size: 14, deleted: {25}\n",
      "Q_min: 0.0306, set_size: 13, deleted: {28}\n",
      "Q_min: 0.0181, set_size: 17\n",
      "Q_min: 0.0181, set_size: 18, added: 0\n",
      "Q_min: 0.0181, set_size: 19, added: 1\n",
      "Q_min: 0.0181, set_size: 20, added: 8\n",
      "Q_min: 0.0181, set_size: 21, added: 16\n",
      "Q_min: 0.0195, set_size: 16, deleted: {41}\n",
      "Q_min: 0.0236, set_size: 15, deleted: {30}\n",
      "Q_min: 0.0306, set_size: 14, deleted: {25}\n",
      "Q_min: 0.0306, set_size: 13, deleted: {28}\n",
      "Q_min: 0.0181, set_size: 17\n",
      "Q_min: 0.0181, set_size: 18, added: 0\n",
      "Q_min: 0.0181, set_size: 19, added: 1\n",
      "Q_min: 0.0181, set_size: 20, added: 8\n",
      "Q_min: 0.0181, set_size: 21, added: 16\n",
      "Q_min: 0.0195, set_size: 16, deleted: {41}\n",
      "Q_min: 0.0236, set_size: 15, deleted: {30}\n",
      "Q_min: 0.0306, set_size: 14, deleted: {25}\n",
      "Q_min: 0.0306, set_size: 13, deleted: {28}\n",
      "Q_min: 0.0181, set_size: 17\n",
      "CPU times: user 1min 20s, sys: 460 ms, total: 1min 21s\n",
      "Wall time: 1min 21s\n",
      "0.9819193324061196\n",
      "CPU times: user 64 ms, sys: 0 ns, total: 64 ms\n",
      "Wall time: 65.4 ms\n",
      "без отбора признаков:  0.9860917941585535\n",
      "CPU times: user 248 ms, sys: 0 ns, total: 248 ms\n",
      "Wall time: 247 ms\n"
     ]
    }
   ],
   "source": [
    "from sklearn.datasets import load_digits\n",
    "digits = load_digits()\n",
    "data = digits['data']\n",
    "target = digits['target']\n",
    "X_train, X_test, Y_train, Y_test = model_selection.train_test_split(data, target, test_size = 0.4)\n",
    "\n",
    "# проверьте вашу реализацию\n",
    "estimator = KNeighborsClassifier()\n",
    "%time feature_set = add_del(estimator, list(range(X_train.shape[1])), X_train, Y_train, X_test, Y_test, look_forward=4)\n",
    "%time print(accuracy_score(Y_test, estimator.fit(X_train[:, feature_set], Y_train).predict(X_test[:, feature_set])))\n",
    "%time print(\"без отбора признаков: \", accuracy_score(Y_test, estimator.fit(X_train, Y_train).predict(X_test)))"
   ]
  },
  {
   "cell_type": "code",
   "execution_count": null,
   "metadata": {
    "collapsed": true
   },
   "outputs": [],
   "source": []
  }
 ],
 "metadata": {
  "anaconda-cloud": {},
  "kernelspec": {
   "display_name": "Python 3",
   "language": "python",
   "name": "python3"
  },
  "language_info": {
   "codemirror_mode": {
    "name": "ipython",
    "version": 3
   },
   "file_extension": ".py",
   "mimetype": "text/x-python",
   "name": "python",
   "nbconvert_exporter": "python",
   "pygments_lexer": "ipython3",
   "version": "3.5.2"
  }
 },
 "nbformat": 4,
 "nbformat_minor": 1
}
