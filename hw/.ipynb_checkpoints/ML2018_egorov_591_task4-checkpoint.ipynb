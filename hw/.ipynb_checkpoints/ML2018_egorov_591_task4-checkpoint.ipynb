{
 "cells": [
  {
   "cell_type": "code",
   "execution_count": 0,
   "metadata": {
    "colab": {
     "autoexec": {
      "startup": false,
      "wait_interval": 0
     }
    },
    "colab_type": "code",
    "id": "c_gkbBF93i3U"
   },
   "outputs": [],
   "source": [
    "import xgboost as xgb\n",
    "import pandas as pd\n",
    "import numpy as np\n",
    "%pylab inline"
   ]
  },
  {
   "cell_type": "code",
   "execution_count": 0,
   "metadata": {
    "colab": {
     "autoexec": {
      "startup": false,
      "wait_interval": 0
     }
    },
    "colab_type": "code",
    "id": "vJy2DQcA3i3l"
   },
   "outputs": [],
   "source": [
    "data = pd.read_csv('https://www.dropbox.com/s/lo1duo1e4q12z8r/train.csv?dl=1', header=0, sep='\\t')\n",
    "test = pd.read_csv('https://www.dropbox.com/s/qiy76n81kgxz3ky/test.csv?dl=1', header=0, sep=',')\n",
    "data.shape"
   ]
  },
  {
   "cell_type": "code",
   "execution_count": 0,
   "metadata": {
    "colab": {
     "autoexec": {
      "startup": false,
      "wait_interval": 0
     }
    },
    "colab_type": "code",
    "id": "P775C-VHFBgW"
   },
   "outputs": [],
   "source": [
    "!pip install tqdm"
   ]
  },
  {
   "cell_type": "code",
   "execution_count": 0,
   "metadata": {
    "colab": {
     "autoexec": {
      "startup": false,
      "wait_interval": 0
     }
    },
    "colab_type": "code",
    "id": "MsfeIHD43i3v"
   },
   "outputs": [],
   "source": [
    "from sklearn import preprocessing, model_selection\n",
    "from tqdm import tqdm\n",
    "\n",
    "encoders = {}\n",
    "for column in tqdm(test.columns[2:4]):\n",
    "    if test.dtypes[column] == np.object:\n",
    "        encoders[column] = preprocessing.LabelEncoder()\n",
    "        fit_column = data[column].copy()\n",
    "        fit_column = fit_column.append(test[column])\n",
    "        encoders[column].fit(fit_column)\n",
    "        test[column] = encoders[column].transform(test[column])\n",
    "        data[column] = encoders[column].transform(data[column])\n",
    "        \n",
    "data = data.dropna()"
   ]
  },
  {
   "cell_type": "code",
   "execution_count": 0,
   "metadata": {
    "colab": {
     "autoexec": {
      "startup": false,
      "wait_interval": 0
     }
    },
    "colab_type": "code",
    "id": "u8NSH1_53i4L"
   },
   "outputs": [],
   "source": [
    "data = data.drop('DSSR', 1)\n",
    "X_train = data.drop('mg', 1)\n",
    "y_train = data['mg']\n",
    "X_test = test.drop(test.columns[[0, 1, 3]], axis=1)"
   ]
  },
  {
   "cell_type": "code",
   "execution_count": 0,
   "metadata": {
    "colab": {
     "autoexec": {
      "startup": false,
      "wait_interval": 0
     }
    },
    "colab_type": "code",
    "id": "Q6S95Ylp3i4R"
   },
   "outputs": [],
   "source": [
    "from sklearn.preprocessing import scale\n",
    "X = np.vstack((X_train, X_test))\n",
    "X = scale(np.array(X, dtype='float'), with_std=True, with_mean=True)\n",
    "X_train = X[:X_train.shape[0]]\n",
    "X_test = X[X_train.shape[0]:]"
   ]
  },
  {
   "cell_type": "code",
   "execution_count": 0,
   "metadata": {
    "colab": {
     "autoexec": {
      "startup": false,
      "wait_interval": 0
     }
    },
    "colab_type": "code",
    "id": "t4YOLF7p3i4v"
   },
   "outputs": [],
   "source": [
    "def write_answer(predictions):\n",
    "    with open(\"result.csv\", \"w\") as fout:\n",
    "        fout.write(\"Id,mg\\n\")\n",
    "        for i in range(predictions.shape[0]):\n",
    "            fout.write(str(i)+\",\"+str(predictions[i])+\"\\n\")"
   ]
  },
  {
   "cell_type": "code",
   "execution_count": 0,
   "metadata": {
    "colab": {
     "autoexec": {
      "startup": false,
      "wait_interval": 0
     }
    },
    "colab_type": "code",
    "id": "h0CrlR9l3i41"
   },
   "outputs": [],
   "source": [
    "%%time\n",
    "estimator = xgb.XGBClassifier(learning_rate=0.2, max_depth=2, n_estimators=3000, \n",
    "                              colsample_bytree = X_train.shape[1]**(1/2)/X_train.shape[1],  n_jobs=-1, reg_alpha=0.005)\n",
    "estimator.fit(X_train, y_train)\n",
    "predictions = estimator.predict(X_test)"
   ]
  },
  {
   "cell_type": "code",
   "execution_count": 0,
   "metadata": {
    "colab": {
     "autoexec": {
      "startup": false,
      "wait_interval": 0
     }
    },
    "colab_type": "code",
    "id": "xV4dOkP03i5L"
   },
   "outputs": [],
   "source": [
    "write_answer(predictions)"
   ]
  },
  {
   "cell_type": "code",
   "execution_count": 0,
   "metadata": {
    "cellView": "both",
    "colab": {
     "autoexec": {
      "startup": false,
      "wait_interval": 0
     }
    },
    "colab_type": "code",
    "id": "046txxLu3i5S"
   },
   "outputs": [],
   "source": [
    "print(np.argmax(estimator.feature_importances_))"
   ]
  },
  {
   "cell_type": "code",
   "execution_count": 0,
   "metadata": {
    "colab": {
     "autoexec": {
      "startup": false,
      "wait_interval": 0
     }
    },
    "colab_type": "code",
    "id": "1aUxOtQl3i5Z"
   },
   "outputs": [],
   "source": [
    "from xgboost import plot_importance\n",
    "plot_importance(estimator)"
   ]
  },
  {
   "cell_type": "code",
   "execution_count": 0,
   "metadata": {
    "colab": {
     "autoexec": {
      "startup": false,
      "wait_interval": 0
     }
    },
    "colab_type": "code",
    "id": "Dd7jJNVh3i5i"
   },
   "outputs": [],
   "source": []
  },
  {
   "cell_type": "code",
   "execution_count": 0,
   "metadata": {
    "colab": {
     "autoexec": {
      "startup": false,
      "wait_interval": 0
     }
    },
    "colab_type": "code",
    "id": "cFcdfFVb3i5q"
   },
   "outputs": [],
   "source": []
  },
  {
   "cell_type": "code",
   "execution_count": 0,
   "metadata": {
    "colab": {
     "autoexec": {
      "startup": false,
      "wait_interval": 0
     }
    },
    "colab_type": "code",
    "id": "25ysnVNy3i5y"
   },
   "outputs": [],
   "source": [
    "from sklearn import cross_validation, grid_search, metrics"
   ]
  },
  {
   "cell_type": "code",
   "execution_count": 0,
   "metadata": {
    "colab": {
     "autoexec": {
      "startup": false,
      "wait_interval": 0
     }
    },
    "colab_type": "code",
    "id": "oZaIAEa_3i5_"
   },
   "outputs": [],
   "source": [
    "parameters_grid = {\n",
    "    'learning_rate' : [0.05, 0.1, 0.2],\n",
    "    'max_depth' : [2, 3, 4, 5, 10],\n",
    "    'n_estimators' : [5000],\n",
    "    'colsample_bylevel' : [X_train.shape[1]**(1/2)/X_train.shape[1], 1],\n",
    "}"
   ]
  },
  {
   "cell_type": "code",
   "execution_count": 0,
   "metadata": {
    "colab": {
     "autoexec": {
      "startup": false,
      "wait_interval": 0
     }
    },
    "colab_type": "code",
    "id": "W4YMr9yl3i6E"
   },
   "outputs": [],
   "source": [
    "cv = cross_validation.StratifiedShuffleSplit(y_train, n_iter = 10, test_size = 0.2)"
   ]
  },
  {
   "cell_type": "code",
   "execution_count": 0,
   "metadata": {
    "colab": {
     "autoexec": {
      "startup": false,
      "wait_interval": 0
     }
    },
    "colab_type": "code",
    "id": "vEG6mem33i6L"
   },
   "outputs": [],
   "source": [
    "classifier = xgb.XGBClassifier()"
   ]
  },
  {
   "cell_type": "code",
   "execution_count": 0,
   "metadata": {
    "colab": {
     "autoexec": {
      "startup": false,
      "wait_interval": 0
     }
    },
    "colab_type": "code",
    "id": "ZMqeP4bc3i6R"
   },
   "outputs": [],
   "source": [
    "grid_cv = grid_search.GridSearchCV(classifier, parameters_grid, scoring = 'f1', cv = cv, n_jobs=4, pre_dispatch=8, verbose=16)"
   ]
  },
  {
   "cell_type": "code",
   "execution_count": 0,
   "metadata": {
    "colab": {
     "autoexec": {
      "startup": false,
      "wait_interval": 0
     }
    },
    "colab_type": "code",
    "id": "ppfoaYiY3i6W"
   },
   "outputs": [],
   "source": [
    "%%time\n",
    "grid_cv.fit(X_train, y_train)"
   ]
  },
  {
   "cell_type": "code",
   "execution_count": 0,
   "metadata": {
    "colab": {
     "autoexec": {
      "startup": false,
      "wait_interval": 0
     }
    },
    "colab_type": "code",
    "id": "Ked-X8RX3i6e"
   },
   "outputs": [],
   "source": [
    "grid_cv.best_estimator_"
   ]
  },
  {
   "cell_type": "code",
   "execution_count": 0,
   "metadata": {
    "colab": {
     "autoexec": {
      "startup": false,
      "wait_interval": 0
     }
    },
    "colab_type": "code",
    "id": "YZGg11t-3i6s"
   },
   "outputs": [],
   "source": [
    "print(grid_cv.best_score_)\n",
    "print(grid_cv.best_params_)"
   ]
  },
  {
   "cell_type": "code",
   "execution_count": 0,
   "metadata": {
    "colab": {
     "autoexec": {
      "startup": false,
      "wait_interval": 0
     }
    },
    "colab_type": "code",
    "id": "UKfxAP_33i60"
   },
   "outputs": [],
   "source": [
    "%%time\n",
    "estimator = grid_cv.best_estimator_\n",
    "estimator.fit(X_train, y_train)\n",
    "predictions = estimator.predict(X_test)"
   ]
  },
  {
   "cell_type": "code",
   "execution_count": 0,
   "metadata": {
    "colab": {
     "autoexec": {
      "startup": false,
      "wait_interval": 0
     }
    },
    "colab_type": "code",
    "id": "PZYHQ31T3i65"
   },
   "outputs": [],
   "source": [
    "write_answer(predictions)"
   ]
  },
  {
   "cell_type": "code",
   "execution_count": 0,
   "metadata": {
    "colab": {
     "autoexec": {
      "startup": false,
      "wait_interval": 0
     }
    },
    "colab_type": "code",
    "id": "DrEk6ovS3i7E"
   },
   "outputs": [],
   "source": [
    "print(np.argmax(estimator.feature_importances_))"
   ]
  },
  {
   "cell_type": "code",
   "execution_count": 0,
   "metadata": {
    "colab": {
     "autoexec": {
      "startup": false,
      "wait_interval": 0
     }
    },
    "colab_type": "code",
    "id": "tLwgxpaZ3i7N"
   },
   "outputs": [],
   "source": [
    "from xgboost import plot_importance\n",
    "plot_importance(estimator)"
   ]
  },
  {
   "cell_type": "code",
   "execution_count": 0,
   "metadata": {
    "colab": {
     "autoexec": {
      "startup": false,
      "wait_interval": 0
     }
    },
    "colab_type": "code",
    "id": "EmVqeZOV3i7T"
   },
   "outputs": [],
   "source": []
  },
  {
   "cell_type": "code",
   "execution_count": 0,
   "metadata": {
    "colab": {
     "autoexec": {
      "startup": false,
      "wait_interval": 0
     }
    },
    "colab_type": "code",
    "id": "ZEAUAtKD3i7y"
   },
   "outputs": [],
   "source": [
    "classifier = xgb.XGBClassifier(learning_rate=0.2, max_depth=3, n_estimators=10000, \n",
    "                              colsample_bytree = X_train.shape[1]**(1/2)/X_train.shape[1],  n_jobs=-1, reg_alpha=0.005)"
   ]
  },
  {
   "cell_type": "code",
   "execution_count": 0,
   "metadata": {
    "colab": {
     "autoexec": {
      "startup": false,
      "wait_interval": 0
     }
    },
    "colab_type": "code",
    "id": "kniB4T2gzgN0"
   },
   "outputs": [],
   "source": [
    "from sklearn.model_selection import cross_val_score\n",
    "scores = cross_val_score(classifier, X_train, y_train, cv=cv, scoring='f1')\n",
    "print(scores)"
   ]
  },
  {
   "cell_type": "code",
   "execution_count": 0,
   "metadata": {
    "colab": {
     "autoexec": {
      "startup": false,
      "wait_interval": 0
     }
    },
    "colab_type": "code",
    "id": "F2L9SLQUziL9"
   },
   "outputs": [],
   "source": [
    "if (scores.mean > 0.35):\n",
    "  classifier.fit(X_train, y_train)\n",
    "  predictions = estimator.predict(X_test)\n",
    "  write_answer(predictions)"
   ]
  }
 ],
 "metadata": {
  "colab": {
   "collapsed_sections": [],
   "default_view": {},
   "name": "ML2018_egorov591_task4.ipynb",
   "provenance": [],
   "version": "0.3.2",
   "views": {}
  },
  "kernelspec": {
   "display_name": "Python 3",
   "language": "python",
   "name": "python3"
  },
  "language_info": {
   "codemirror_mode": {
    "name": "ipython",
    "version": 3
   },
   "file_extension": ".py",
   "mimetype": "text/x-python",
   "name": "python",
   "nbconvert_exporter": "python",
   "pygments_lexer": "ipython3",
   "version": "3.5.2"
  }
 },
 "nbformat": 4,
 "nbformat_minor": 1
}
