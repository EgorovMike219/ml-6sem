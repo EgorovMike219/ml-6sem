{
  "nbformat": 4,
  "nbformat_minor": 0,
  "metadata": {
    "colab": {
      "name": "ML2018_egorov591_task4.ipynb",
      "version": "0.3.2",
      "views": {},
      "default_view": {},
      "provenance": [],
      "collapsed_sections": []
    },
    "kernelspec": {
      "display_name": "Python 3",
      "language": "python",
      "name": "python3"
    }
  },
  "cells": [
    {
      "metadata": {
        "id": "c_gkbBF93i3U",
        "colab_type": "code",
        "colab": {
          "autoexec": {
            "startup": false,
            "wait_interval": 0
          }
        }
      },
      "cell_type": "code",
      "source": [
        "import xgboost as xgb\n",
        "import pandas as pd\n",
        "import numpy as np\n",
        "%pylab inline"
      ],
      "execution_count": 0,
      "outputs": []
    },
    {
      "metadata": {
        "id": "vJy2DQcA3i3l",
        "colab_type": "code",
        "colab": {
          "autoexec": {
            "startup": false,
            "wait_interval": 0
          }
        }
      },
      "cell_type": "code",
      "source": [
        "data = pd.read_csv('https://www.dropbox.com/s/lo1duo1e4q12z8r/train.csv?dl=1', header=0, sep='\\t')\n",
        "test = pd.read_csv('https://www.dropbox.com/s/qiy76n81kgxz3ky/test.csv?dl=1', header=0, sep=',')\n",
        "data.shape"
      ],
      "execution_count": 0,
      "outputs": []
    },
    {
      "metadata": {
        "id": "P775C-VHFBgW",
        "colab_type": "code",
        "colab": {
          "autoexec": {
            "startup": false,
            "wait_interval": 0
          }
        }
      },
      "cell_type": "code",
      "source": [
        "!pip install tqdm"
      ],
      "execution_count": 0,
      "outputs": []
    },
    {
      "metadata": {
        "id": "MsfeIHD43i3v",
        "colab_type": "code",
        "colab": {
          "autoexec": {
            "startup": false,
            "wait_interval": 0
          }
        }
      },
      "cell_type": "code",
      "source": [
        "from sklearn import preprocessing, model_selection\n",
        "from tqdm import tqdm\n",
        "\n",
        "encoders = {}\n",
        "for column in tqdm(test.columns[2:4]):\n",
        "    if test.dtypes[column] == np.object:\n",
        "        encoders[column] = preprocessing.LabelEncoder()\n",
        "        fit_column = data[column].copy()\n",
        "        fit_column = fit_column.append(test[column])\n",
        "        encoders[column].fit(fit_column)\n",
        "        test[column] = encoders[column].transform(test[column])\n",
        "        data[column] = encoders[column].transform(data[column])\n",
        "        \n",
        "data = data.dropna()"
      ],
      "execution_count": 0,
      "outputs": []
    },
    {
      "metadata": {
        "id": "u8NSH1_53i4L",
        "colab_type": "code",
        "colab": {
          "autoexec": {
            "startup": false,
            "wait_interval": 0
          }
        }
      },
      "cell_type": "code",
      "source": [
        "data = data.drop('DSSR', 1)\n",
        "X_train = data.drop('mg', 1)\n",
        "y_train = data['mg']\n",
        "X_test = test.drop(test.columns[[0, 1, 3]], axis=1)"
      ],
      "execution_count": 0,
      "outputs": []
    },
    {
      "metadata": {
        "id": "Q6S95Ylp3i4R",
        "colab_type": "code",
        "colab": {
          "autoexec": {
            "startup": false,
            "wait_interval": 0
          }
        }
      },
      "cell_type": "code",
      "source": [
        "from sklearn.preprocessing import scale\n",
        "X = np.vstack((X_train, X_test))\n",
        "X = scale(np.array(X, dtype='float'), with_std=True, with_mean=True)\n",
        "X_train = X[:X_train.shape[0]]\n",
        "X_test = X[X_train.shape[0]:]"
      ],
      "execution_count": 0,
      "outputs": []
    },
    {
      "metadata": {
        "id": "t4YOLF7p3i4v",
        "colab_type": "code",
        "colab": {
          "autoexec": {
            "startup": false,
            "wait_interval": 0
          }
        }
      },
      "cell_type": "code",
      "source": [
        "def write_answer(predictions):\n",
        "    with open(\"result.csv\", \"w\") as fout:\n",
        "        fout.write(\"Id,mg\\n\")\n",
        "        for i in range(predictions.shape[0]):\n",
        "            fout.write(str(i)+\",\"+str(predictions[i])+\"\\n\")"
      ],
      "execution_count": 0,
      "outputs": []
    },
    {
      "metadata": {
        "id": "h0CrlR9l3i41",
        "colab_type": "code",
        "colab": {
          "autoexec": {
            "startup": false,
            "wait_interval": 0
          }
        }
      },
      "cell_type": "code",
      "source": [
        "%%time\n",
        "estimator = xgb.XGBClassifier(learning_rate=0.2, max_depth=2, n_estimators=3000, \n",
        "                              colsample_bytree = X_train.shape[1]**(1/2)/X_train.shape[1],  n_jobs=-1, reg_alpha=0.005)\n",
        "estimator.fit(X_train, y_train)\n",
        "predictions = estimator.predict(X_test)"
      ],
      "execution_count": 0,
      "outputs": []
    },
    {
      "metadata": {
        "id": "xV4dOkP03i5L",
        "colab_type": "code",
        "colab": {
          "autoexec": {
            "startup": false,
            "wait_interval": 0
          }
        }
      },
      "cell_type": "code",
      "source": [
        "write_answer(predictions)"
      ],
      "execution_count": 0,
      "outputs": []
    },
    {
      "metadata": {
        "id": "046txxLu3i5S",
        "colab_type": "code",
        "colab": {
          "autoexec": {
            "startup": false,
            "wait_interval": 0
          }
        },
        "cellView": "both"
      },
      "cell_type": "code",
      "source": [
        "print(np.argmax(estimator.feature_importances_))"
      ],
      "execution_count": 0,
      "outputs": []
    },
    {
      "metadata": {
        "id": "1aUxOtQl3i5Z",
        "colab_type": "code",
        "colab": {
          "autoexec": {
            "startup": false,
            "wait_interval": 0
          }
        }
      },
      "cell_type": "code",
      "source": [
        "from xgboost import plot_importance\n",
        "plot_importance(estimator)"
      ],
      "execution_count": 0,
      "outputs": []
    },
    {
      "metadata": {
        "id": "Dd7jJNVh3i5i",
        "colab_type": "code",
        "colab": {
          "autoexec": {
            "startup": false,
            "wait_interval": 0
          }
        }
      },
      "cell_type": "code",
      "source": [
        ""
      ],
      "execution_count": 0,
      "outputs": []
    },
    {
      "metadata": {
        "id": "cFcdfFVb3i5q",
        "colab_type": "code",
        "colab": {
          "autoexec": {
            "startup": false,
            "wait_interval": 0
          }
        }
      },
      "cell_type": "code",
      "source": [
        ""
      ],
      "execution_count": 0,
      "outputs": []
    },
    {
      "metadata": {
        "id": "25ysnVNy3i5y",
        "colab_type": "code",
        "colab": {
          "autoexec": {
            "startup": false,
            "wait_interval": 0
          }
        }
      },
      "cell_type": "code",
      "source": [
        "from sklearn import cross_validation, grid_search, metrics"
      ],
      "execution_count": 0,
      "outputs": []
    },
    {
      "metadata": {
        "id": "oZaIAEa_3i5_",
        "colab_type": "code",
        "colab": {
          "autoexec": {
            "startup": false,
            "wait_interval": 0
          }
        }
      },
      "cell_type": "code",
      "source": [
        "parameters_grid = {\n",
        "    'learning_rate' : [0.05, 0.1, 0.2],\n",
        "    'max_depth' : [2, 3, 4, 5, 10],\n",
        "    'n_estimators' : [5000],\n",
        "    'colsample_bylevel' : [X_train.shape[1]**(1/2)/X_train.shape[1], 1],\n",
        "}"
      ],
      "execution_count": 0,
      "outputs": []
    },
    {
      "metadata": {
        "id": "W4YMr9yl3i6E",
        "colab_type": "code",
        "colab": {
          "autoexec": {
            "startup": false,
            "wait_interval": 0
          }
        }
      },
      "cell_type": "code",
      "source": [
        "cv = cross_validation.StratifiedShuffleSplit(y_train, n_iter = 10, test_size = 0.2)"
      ],
      "execution_count": 0,
      "outputs": []
    },
    {
      "metadata": {
        "id": "vEG6mem33i6L",
        "colab_type": "code",
        "colab": {
          "autoexec": {
            "startup": false,
            "wait_interval": 0
          }
        }
      },
      "cell_type": "code",
      "source": [
        "classifier = xgb.XGBClassifier()"
      ],
      "execution_count": 0,
      "outputs": []
    },
    {
      "metadata": {
        "id": "ZMqeP4bc3i6R",
        "colab_type": "code",
        "colab": {
          "autoexec": {
            "startup": false,
            "wait_interval": 0
          }
        }
      },
      "cell_type": "code",
      "source": [
        "grid_cv = grid_search.GridSearchCV(classifier, parameters_grid, scoring = 'f1', cv = cv, n_jobs=4, pre_dispatch=8, verbose=16)"
      ],
      "execution_count": 0,
      "outputs": []
    },
    {
      "metadata": {
        "id": "ppfoaYiY3i6W",
        "colab_type": "code",
        "colab": {
          "autoexec": {
            "startup": false,
            "wait_interval": 0
          }
        }
      },
      "cell_type": "code",
      "source": [
        "%%time\n",
        "grid_cv.fit(X_train, y_train)"
      ],
      "execution_count": 0,
      "outputs": []
    },
    {
      "metadata": {
        "id": "Ked-X8RX3i6e",
        "colab_type": "code",
        "colab": {
          "autoexec": {
            "startup": false,
            "wait_interval": 0
          }
        }
      },
      "cell_type": "code",
      "source": [
        "grid_cv.best_estimator_"
      ],
      "execution_count": 0,
      "outputs": []
    },
    {
      "metadata": {
        "id": "YZGg11t-3i6s",
        "colab_type": "code",
        "colab": {
          "autoexec": {
            "startup": false,
            "wait_interval": 0
          }
        }
      },
      "cell_type": "code",
      "source": [
        "print(grid_cv.best_score_)\n",
        "print(grid_cv.best_params_)"
      ],
      "execution_count": 0,
      "outputs": []
    },
    {
      "metadata": {
        "id": "UKfxAP_33i60",
        "colab_type": "code",
        "colab": {
          "autoexec": {
            "startup": false,
            "wait_interval": 0
          }
        }
      },
      "cell_type": "code",
      "source": [
        "%%time\n",
        "estimator = grid_cv.best_estimator_\n",
        "estimator.fit(X_train, y_train)\n",
        "predictions = estimator.predict(X_test)"
      ],
      "execution_count": 0,
      "outputs": []
    },
    {
      "metadata": {
        "id": "PZYHQ31T3i65",
        "colab_type": "code",
        "colab": {
          "autoexec": {
            "startup": false,
            "wait_interval": 0
          }
        }
      },
      "cell_type": "code",
      "source": [
        "write_answer(predictions)"
      ],
      "execution_count": 0,
      "outputs": []
    },
    {
      "metadata": {
        "id": "DrEk6ovS3i7E",
        "colab_type": "code",
        "colab": {
          "autoexec": {
            "startup": false,
            "wait_interval": 0
          }
        }
      },
      "cell_type": "code",
      "source": [
        "print(np.argmax(estimator.feature_importances_))"
      ],
      "execution_count": 0,
      "outputs": []
    },
    {
      "metadata": {
        "id": "tLwgxpaZ3i7N",
        "colab_type": "code",
        "colab": {
          "autoexec": {
            "startup": false,
            "wait_interval": 0
          }
        }
      },
      "cell_type": "code",
      "source": [
        "from xgboost import plot_importance\n",
        "plot_importance(estimator)"
      ],
      "execution_count": 0,
      "outputs": []
    },
    {
      "metadata": {
        "id": "EmVqeZOV3i7T",
        "colab_type": "code",
        "colab": {
          "autoexec": {
            "startup": false,
            "wait_interval": 0
          }
        }
      },
      "cell_type": "code",
      "source": [
        ""
      ],
      "execution_count": 0,
      "outputs": []
    },
    {
      "metadata": {
        "id": "ZEAUAtKD3i7y",
        "colab_type": "code",
        "colab": {
          "autoexec": {
            "startup": false,
            "wait_interval": 0
          }
        }
      },
      "cell_type": "code",
      "source": [
        "classifier = xgb.XGBClassifier(learning_rate=0.2, max_depth=3, n_estimators=10000, \n",
        "                              colsample_bytree = X_train.shape[1]**(1/2)/X_train.shape[1],  n_jobs=-1, reg_alpha=0.005)"
      ],
      "execution_count": 0,
      "outputs": []
    },
    {
      "metadata": {
        "id": "kniB4T2gzgN0",
        "colab_type": "code",
        "colab": {
          "autoexec": {
            "startup": false,
            "wait_interval": 0
          }
        }
      },
      "cell_type": "code",
      "source": [
        "from sklearn.model_selection import cross_val_score\n",
        "scores = cross_val_score(classifier, X_train, y_train, cv=cv, scoring='f1')\n",
        "print(scores)"
      ],
      "execution_count": 0,
      "outputs": []
    },
    {
      "metadata": {
        "id": "F2L9SLQUziL9",
        "colab_type": "code",
        "colab": {
          "autoexec": {
            "startup": false,
            "wait_interval": 0
          }
        }
      },
      "cell_type": "code",
      "source": [
        "if (scores.mean > 0.35):\n",
        "  classifier.fit(X_train, y_train)\n",
        "  predictions = estimator.predict(X_test)\n",
        "  write_answer(predictions)"
      ],
      "execution_count": 0,
      "outputs": []
    }
  ]
}